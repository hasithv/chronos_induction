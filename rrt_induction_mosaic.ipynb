{
 "cells": [
  {
   "cell_type": "code",
   "execution_count": 11,
   "metadata": {},
   "outputs": [],
   "source": [
    "import torch\n",
    "from chronos import BaseChronosPipeline\n",
    "\n",
    "import numpy as np\n",
    "import pandas as pd\n",
    "\n",
    "import plotly.express as px\n",
    "import plotly.graph_objects as go\n",
    "from plotly.subplots import make_subplots\n",
    "\n",
    "import os\n",
    "import json\n",
    "\n",
    "import rrt_utils as rrt\n",
    "import attn_lens as attn"
   ]
  },
  {
   "cell_type": "code",
   "execution_count": 24,
   "metadata": {},
   "outputs": [],
   "source": [
    "def generate_rrt_induction_data(\n",
    "    vocab_range=(1911, 2187),\n",
    "    batch_size=100,\n",
    "    num_unique_sequences=1,\n",
    "    repeat_factor=4,\n",
    "    extension=0,\n",
    "    sub_extension=1,\n",
    "    sequence_length=10\n",
    "):\n",
    "    \"\"\"\n",
    "    Generate data for RRT induction experiments.\n",
    "    \n",
    "    Args:\n",
    "        vocab_range: Tuple of (min, max) vocab indices to use\n",
    "        batch_size: Number of sequences in the batch\n",
    "        num_unique_sequences: Number of unique sequences in the batch\n",
    "        repeat_factor: Number of times to repeat the sequences\n",
    "        extension: After repeating everything, repeat this many sequences again\n",
    "        sub_extension: Some additional tokens in the next sequence\n",
    "        sequence_length: Length of each sequence\n",
    "        \n",
    "    Returns:\n",
    "        Tuple of (token_ids, attention_mask, decoder_input_ids)\n",
    "    \"\"\"\n",
    "    # Define constants\n",
    "    EOS_TOKEN_ID = torch.tensor(1, dtype=torch.int)\n",
    "    \n",
    "    # Define the vocab as all the tokens within the specified range\n",
    "    vocab = torch.tensor([i for i in range(4096) if i >= vocab_range[0] and i <= vocab_range[1]])\n",
    "    \n",
    "    # Generate random token sequences (inlined from rrt.generate_random_token_ids)\n",
    "    tokens = []\n",
    "    for _ in range(num_unique_sequences):\n",
    "        # random choice of vocab indices\n",
    "        indices = torch.randint(0, vocab.shape[0], (batch_size, sequence_length))\n",
    "        # select the tokens\n",
    "        token_sequence = vocab[indices]\n",
    "        tokens.append(token_sequence)\n",
    "    \n",
    "    # Stack sequences with repetition pattern (inlined from rrt.stack_sequences)\n",
    "    sequences_to_stack = tokens * repeat_factor + tokens[:extension] + [tokens[extension][:,:sub_extension]] + [torch.ones((batch_size, 1), dtype=torch.int) * EOS_TOKEN_ID]\n",
    "    token_ids = torch.cat(sequences_to_stack, dim=-1)\n",
    "    \n",
    "    # Create attention mask\n",
    "    attention_mask = torch.ones_like(token_ids, dtype=torch.bool)\n",
    "    \n",
    "    # Create decoder input ids\n",
    "    decoder_input_ids = torch.cat([\n",
    "        torch.zeros((batch_size, 1), dtype=torch.long), \n",
    "        tokens[extension][:,sub_extension:sub_extension+1]\n",
    "    ], dim=-1)\n",
    "    \n",
    "    return token_ids, attention_mask, decoder_input_ids\n"
   ]
  },
  {
   "cell_type": "code",
   "execution_count": 25,
   "metadata": {},
   "outputs": [],
   "source": [
    "# Define different values to experiment with\n",
    "repeat_factors = [2, 4, 6, 8, 10]\n",
    "sequence_lengths = [2, 4, 6, 8, 10]\n",
    "\n",
    "model_names = [\"amazon/chronos-t5-mini\", \"amazon/chronos-t5-small\", \"amazon/chronos-t5-base\", \"amazon/chronos-t5-large\"]"
   ]
  },
  {
   "cell_type": "code",
   "execution_count": 27,
   "metadata": {},
   "outputs": [
    {
     "name": "stdout",
     "output_type": "stream",
     "text": [
      "Processing repeat_factor=2, sequence_length=2\n",
      "token_ids.shape: torch.Size([100, 6]), decoder_input_ids.shape: torch.Size([100, 2])\n",
      "Processing amazon/chronos-t5-mini for rf2_sl2...\n",
      "Processing amazon/chronos-t5-small for rf2_sl2...\n",
      "Processing amazon/chronos-t5-base for rf2_sl2...\n",
      "Processing amazon/chronos-t5-large for rf2_sl2...\n",
      "Processing repeat_factor=2, sequence_length=4\n",
      "token_ids.shape: torch.Size([100, 10]), decoder_input_ids.shape: torch.Size([100, 2])\n",
      "Processing amazon/chronos-t5-mini for rf2_sl4...\n",
      "Processing amazon/chronos-t5-small for rf2_sl4...\n",
      "Processing amazon/chronos-t5-base for rf2_sl4...\n",
      "Processing amazon/chronos-t5-large for rf2_sl4...\n",
      "Processing repeat_factor=2, sequence_length=6\n",
      "token_ids.shape: torch.Size([100, 14]), decoder_input_ids.shape: torch.Size([100, 2])\n",
      "Processing amazon/chronos-t5-mini for rf2_sl6...\n",
      "Processing amazon/chronos-t5-small for rf2_sl6...\n",
      "Processing amazon/chronos-t5-base for rf2_sl6...\n",
      "Processing amazon/chronos-t5-large for rf2_sl6...\n",
      "Processing repeat_factor=2, sequence_length=8\n",
      "token_ids.shape: torch.Size([100, 18]), decoder_input_ids.shape: torch.Size([100, 2])\n",
      "Processing amazon/chronos-t5-mini for rf2_sl8...\n",
      "Processing amazon/chronos-t5-small for rf2_sl8...\n",
      "Processing amazon/chronos-t5-base for rf2_sl8...\n",
      "Processing amazon/chronos-t5-large for rf2_sl8...\n",
      "Processing repeat_factor=2, sequence_length=10\n",
      "token_ids.shape: torch.Size([100, 22]), decoder_input_ids.shape: torch.Size([100, 2])\n",
      "Processing amazon/chronos-t5-mini for rf2_sl10...\n",
      "Processing amazon/chronos-t5-small for rf2_sl10...\n",
      "Processing amazon/chronos-t5-base for rf2_sl10...\n",
      "Processing amazon/chronos-t5-large for rf2_sl10...\n",
      "Processing repeat_factor=4, sequence_length=2\n",
      "token_ids.shape: torch.Size([100, 10]), decoder_input_ids.shape: torch.Size([100, 2])\n",
      "Processing amazon/chronos-t5-mini for rf4_sl2...\n",
      "Processing amazon/chronos-t5-small for rf4_sl2...\n",
      "Processing amazon/chronos-t5-base for rf4_sl2...\n",
      "Processing amazon/chronos-t5-large for rf4_sl2...\n",
      "Processing repeat_factor=4, sequence_length=4\n",
      "token_ids.shape: torch.Size([100, 18]), decoder_input_ids.shape: torch.Size([100, 2])\n",
      "Processing amazon/chronos-t5-mini for rf4_sl4...\n",
      "Processing amazon/chronos-t5-small for rf4_sl4...\n",
      "Processing amazon/chronos-t5-base for rf4_sl4...\n",
      "Processing amazon/chronos-t5-large for rf4_sl4...\n",
      "Processing repeat_factor=4, sequence_length=6\n",
      "token_ids.shape: torch.Size([100, 26]), decoder_input_ids.shape: torch.Size([100, 2])\n",
      "Processing amazon/chronos-t5-mini for rf4_sl6...\n",
      "Processing amazon/chronos-t5-small for rf4_sl6...\n",
      "Processing amazon/chronos-t5-base for rf4_sl6...\n",
      "Processing amazon/chronos-t5-large for rf4_sl6...\n",
      "Processing repeat_factor=4, sequence_length=8\n",
      "token_ids.shape: torch.Size([100, 34]), decoder_input_ids.shape: torch.Size([100, 2])\n",
      "Processing amazon/chronos-t5-mini for rf4_sl8...\n",
      "Processing amazon/chronos-t5-small for rf4_sl8...\n",
      "Processing amazon/chronos-t5-base for rf4_sl8...\n",
      "Processing amazon/chronos-t5-large for rf4_sl8...\n",
      "Processing repeat_factor=4, sequence_length=10\n",
      "token_ids.shape: torch.Size([100, 42]), decoder_input_ids.shape: torch.Size([100, 2])\n",
      "Processing amazon/chronos-t5-mini for rf4_sl10...\n",
      "Processing amazon/chronos-t5-small for rf4_sl10...\n",
      "Processing amazon/chronos-t5-base for rf4_sl10...\n",
      "Processing amazon/chronos-t5-large for rf4_sl10...\n",
      "Processing repeat_factor=6, sequence_length=2\n",
      "token_ids.shape: torch.Size([100, 14]), decoder_input_ids.shape: torch.Size([100, 2])\n",
      "Processing amazon/chronos-t5-mini for rf6_sl2...\n",
      "Processing amazon/chronos-t5-small for rf6_sl2...\n",
      "Processing amazon/chronos-t5-base for rf6_sl2...\n",
      "Processing amazon/chronos-t5-large for rf6_sl2...\n",
      "Processing repeat_factor=6, sequence_length=4\n",
      "token_ids.shape: torch.Size([100, 26]), decoder_input_ids.shape: torch.Size([100, 2])\n",
      "Processing amazon/chronos-t5-mini for rf6_sl4...\n",
      "Processing amazon/chronos-t5-small for rf6_sl4...\n",
      "Processing amazon/chronos-t5-base for rf6_sl4...\n",
      "Processing amazon/chronos-t5-large for rf6_sl4...\n",
      "Processing repeat_factor=6, sequence_length=6\n",
      "token_ids.shape: torch.Size([100, 38]), decoder_input_ids.shape: torch.Size([100, 2])\n",
      "Processing amazon/chronos-t5-mini for rf6_sl6...\n",
      "Processing amazon/chronos-t5-small for rf6_sl6...\n",
      "Processing amazon/chronos-t5-base for rf6_sl6...\n",
      "Processing amazon/chronos-t5-large for rf6_sl6...\n",
      "Processing repeat_factor=6, sequence_length=8\n",
      "token_ids.shape: torch.Size([100, 50]), decoder_input_ids.shape: torch.Size([100, 2])\n",
      "Processing amazon/chronos-t5-mini for rf6_sl8...\n",
      "Processing amazon/chronos-t5-small for rf6_sl8...\n",
      "Processing amazon/chronos-t5-base for rf6_sl8...\n",
      "Processing amazon/chronos-t5-large for rf6_sl8...\n",
      "Processing repeat_factor=6, sequence_length=10\n",
      "token_ids.shape: torch.Size([100, 62]), decoder_input_ids.shape: torch.Size([100, 2])\n",
      "Processing amazon/chronos-t5-mini for rf6_sl10...\n",
      "Processing amazon/chronos-t5-small for rf6_sl10...\n",
      "Processing amazon/chronos-t5-base for rf6_sl10...\n",
      "Processing amazon/chronos-t5-large for rf6_sl10...\n",
      "Processing repeat_factor=8, sequence_length=2\n",
      "token_ids.shape: torch.Size([100, 18]), decoder_input_ids.shape: torch.Size([100, 2])\n",
      "Processing amazon/chronos-t5-mini for rf8_sl2...\n",
      "Processing amazon/chronos-t5-small for rf8_sl2...\n",
      "Processing amazon/chronos-t5-base for rf8_sl2...\n",
      "Processing amazon/chronos-t5-large for rf8_sl2...\n",
      "Processing repeat_factor=8, sequence_length=4\n",
      "token_ids.shape: torch.Size([100, 34]), decoder_input_ids.shape: torch.Size([100, 2])\n",
      "Processing amazon/chronos-t5-mini for rf8_sl4...\n",
      "Processing amazon/chronos-t5-small for rf8_sl4...\n",
      "Processing amazon/chronos-t5-base for rf8_sl4...\n",
      "Processing amazon/chronos-t5-large for rf8_sl4...\n",
      "Processing repeat_factor=8, sequence_length=6\n",
      "token_ids.shape: torch.Size([100, 50]), decoder_input_ids.shape: torch.Size([100, 2])\n",
      "Processing amazon/chronos-t5-mini for rf8_sl6...\n",
      "Processing amazon/chronos-t5-small for rf8_sl6...\n",
      "Processing amazon/chronos-t5-base for rf8_sl6...\n",
      "Processing amazon/chronos-t5-large for rf8_sl6...\n",
      "Processing repeat_factor=8, sequence_length=8\n",
      "token_ids.shape: torch.Size([100, 66]), decoder_input_ids.shape: torch.Size([100, 2])\n",
      "Processing amazon/chronos-t5-mini for rf8_sl8...\n",
      "Processing amazon/chronos-t5-small for rf8_sl8...\n",
      "Processing amazon/chronos-t5-base for rf8_sl8...\n",
      "Processing amazon/chronos-t5-large for rf8_sl8...\n",
      "Processing repeat_factor=8, sequence_length=10\n",
      "token_ids.shape: torch.Size([100, 82]), decoder_input_ids.shape: torch.Size([100, 2])\n",
      "Processing amazon/chronos-t5-mini for rf8_sl10...\n",
      "Processing amazon/chronos-t5-small for rf8_sl10...\n",
      "Processing amazon/chronos-t5-base for rf8_sl10...\n",
      "Processing amazon/chronos-t5-large for rf8_sl10...\n",
      "Processing repeat_factor=10, sequence_length=2\n",
      "token_ids.shape: torch.Size([100, 22]), decoder_input_ids.shape: torch.Size([100, 2])\n",
      "Processing amazon/chronos-t5-mini for rf10_sl2...\n",
      "Processing amazon/chronos-t5-small for rf10_sl2...\n",
      "Processing amazon/chronos-t5-base for rf10_sl2...\n",
      "Processing amazon/chronos-t5-large for rf10_sl2...\n",
      "Processing repeat_factor=10, sequence_length=4\n",
      "token_ids.shape: torch.Size([100, 42]), decoder_input_ids.shape: torch.Size([100, 2])\n",
      "Processing amazon/chronos-t5-mini for rf10_sl4...\n",
      "Processing amazon/chronos-t5-small for rf10_sl4...\n",
      "Processing amazon/chronos-t5-base for rf10_sl4...\n",
      "Processing amazon/chronos-t5-large for rf10_sl4...\n",
      "Processing repeat_factor=10, sequence_length=6\n",
      "token_ids.shape: torch.Size([100, 62]), decoder_input_ids.shape: torch.Size([100, 2])\n",
      "Processing amazon/chronos-t5-mini for rf10_sl6...\n",
      "Processing amazon/chronos-t5-small for rf10_sl6...\n",
      "Processing amazon/chronos-t5-base for rf10_sl6...\n",
      "Processing amazon/chronos-t5-large for rf10_sl6...\n",
      "Processing repeat_factor=10, sequence_length=8\n",
      "token_ids.shape: torch.Size([100, 82]), decoder_input_ids.shape: torch.Size([100, 2])\n",
      "Processing amazon/chronos-t5-mini for rf10_sl8...\n",
      "Processing amazon/chronos-t5-small for rf10_sl8...\n",
      "Processing amazon/chronos-t5-base for rf10_sl8...\n",
      "Processing amazon/chronos-t5-large for rf10_sl8...\n",
      "Processing repeat_factor=10, sequence_length=10\n",
      "token_ids.shape: torch.Size([100, 102]), decoder_input_ids.shape: torch.Size([100, 2])\n",
      "Processing amazon/chronos-t5-mini for rf10_sl10...\n",
      "Processing amazon/chronos-t5-small for rf10_sl10...\n",
      "Processing amazon/chronos-t5-base for rf10_sl10...\n",
      "Processing amazon/chronos-t5-large for rf10_sl10...\n"
     ]
    }
   ],
   "source": [
    "all_results = {}\n",
    "\n",
    "for repeat_factor in repeat_factors:\n",
    "    for sequence_length in sequence_lengths:\n",
    "        print(f\"Processing repeat_factor={repeat_factor}, sequence_length={sequence_length}\")\n",
    "        \n",
    "        num_unique_sequences = 1  # number of unique sequences in the batch\n",
    "        extension = 0  # after repeating everything, repeat this many sequences again\n",
    "        sub_extension = 1  # some additional tokens in the next sequence\n",
    "        \n",
    "        # Generate data with current configuration\n",
    "        token_ids, attention_mask, decoder_input_ids = generate_rrt_induction_data(\n",
    "            num_unique_sequences=num_unique_sequences, \n",
    "            repeat_factor=repeat_factor, \n",
    "            extension=extension, \n",
    "            sub_extension=sub_extension, \n",
    "            sequence_length=sequence_length\n",
    "        )\n",
    "        \n",
    "        # Display shapes and sample values\n",
    "        print(f\"token_ids.shape: {token_ids.shape}, decoder_input_ids.shape: {decoder_input_ids.shape}\")\n",
    "        \n",
    "        # Store results for each model\n",
    "        config_key = f\"rf{repeat_factor}_sl{sequence_length}\"\n",
    "        all_results[config_key] = {\n",
    "            \"center_scores\": {},\n",
    "            \"right_scores\": {}\n",
    "        }\n",
    "        \n",
    "        for model_name in model_names:\n",
    "            print(f\"Processing {model_name} for {config_key}...\")\n",
    "            \n",
    "            pipeline = BaseChronosPipeline.from_pretrained(\n",
    "                model_name,  # use \"amazon/chronos-bolt-small\" for the corresponding Chronos-Bolt model\n",
    "                device_map=\"cpu\",  # use \"cpu\" for CPU inference\n",
    "                torch_dtype=torch.bfloat16,\n",
    "            )\n",
    "\n",
    "            if \"bolt\" in model_name:\n",
    "                t5_model = pipeline.model\n",
    "            else:\n",
    "                t5_model = pipeline.model.model\n",
    "\n",
    "            outputs = t5_model.generate(\n",
    "                input_ids=token_ids,\n",
    "                attention_mask=attention_mask,\n",
    "                max_new_tokens=1,\n",
    "                decoder_input_ids=decoder_input_ids,\n",
    "                num_return_sequences=1,\n",
    "                do_sample=False,\n",
    "                use_cache=False,\n",
    "                output_attentions=True,\n",
    "                output_scores=True,\n",
    "                output_hidden_states=True,\n",
    "                return_dict_in_generate=True\n",
    "            )\n",
    "            \n",
    "            # Extract cross attention probabilities\n",
    "            # cross_attentions is a list of length layers, each with shape [batch, heads, dec_length, enc_length]\n",
    "            cross_attn_probs = outputs.cross_attentions\n",
    "            \n",
    "            t_idx = 1\n",
    "            s_idx = sequence_length * ((repeat_factor-1)*num_unique_sequences + extension) + sub_extension\n",
    "\n",
    "            layers, heads = t5_model.config.num_decoder_layers, t5_model.config.num_heads\n",
    "            mosaic_center = np.zeros((layers, heads)).tolist()\n",
    "            mosaic_right = np.zeros((layers, heads)).tolist()\n",
    "\n",
    "            for layer in range(layers):\n",
    "                for head in range(heads):\n",
    "                    # mean over the batch\n",
    "                    mosaic_center[layer][head] = float(cross_attn_probs[0][layer][:, head, t_idx, s_idx].mean())\n",
    "                    mosaic_right[layer][head] = float(cross_attn_probs[0][layer][:, head, t_idx, s_idx+1].mean())\n",
    "            \n",
    "            # Store the scores for this model and configuration\n",
    "            all_results[config_key][\"center_scores\"][model_name] = mosaic_center\n",
    "            all_results[config_key][\"right_scores\"][model_name] = mosaic_right\n",
    "\n",
    "# save the results\n",
    "os.makedirs(\"variables\", exist_ok=True)\n",
    "with open(\"variables/results.json\", \"w\") as f:\n",
    "    json.dump(all_results, f)"
   ]
  },
  {
   "cell_type": "code",
   "execution_count": 28,
   "metadata": {},
   "outputs": [],
   "source": [
    "# load the results\n",
    "with open(\"variables/results.json\", \"r\") as f:\n",
    "    all_results = json.load(f)"
   ]
  },
  {
   "cell_type": "code",
   "execution_count": 29,
   "metadata": {},
   "outputs": [
    {
     "data": {
      "application/vnd.jupyter.widget-view+json": {
       "model_id": "f7b3d52cbbba4ac88880809338d3fa9f",
       "version_major": 2,
       "version_minor": 0
      },
      "text/plain": [
       "HBox(children=(Dropdown(description='Model:', options=('amazon/chronos-t5-mini', 'amazon/chronos-t5-small', 'a…"
      ]
     },
     "metadata": {},
     "output_type": "display_data"
    },
    {
     "data": {
      "application/vnd.jupyter.widget-view+json": {
       "model_id": "3cac5fda8d3241c691cfab109f3c3733",
       "version_major": 2,
       "version_minor": 0
      },
      "text/plain": [
       "Output()"
      ]
     },
     "metadata": {},
     "output_type": "display_data"
    },
    {
     "data": {
      "application/vnd.plotly.v1+json": {
       "config": {
        "plotlyServerURL": "https://plot.ly"
       },
       "data": [
        {
         "coloraxis": "coloraxis",
         "type": "heatmap",
         "xaxis": "x",
         "yaxis": "y",
         "z": [
          [
           0.0267333984375,
           0.021728515625,
           0.10888671875,
           0.04052734375,
           0.01068115234375,
           0.0106201171875,
           0.03564453125,
           0.0123291015625,
           0.01251220703125,
           0.031982421875,
           0.00775146484375,
           0.00494384765625,
           0.0264892578125,
           0.025146484375,
           0.004638671875,
           0.00872802734375
          ],
          [
           0.00000426173210144043,
           0.000659942626953125,
           0.006072998046875,
           0.01422119140625,
           0.01031494140625,
           0.01275634765625,
           0.01043701171875,
           0.2099609375,
           0.0201416015625,
           0.0089111328125,
           0.0098876953125,
           0.07568359375,
           0.140625,
           0.0218505859375,
           0.042724609375,
           0.0037384033203125
          ],
          [
           0.02490234375,
           0.0142822265625,
           0.01214599609375,
           0.00933837890625,
           0.0164794921875,
           0.0150146484375,
           0.0106201171875,
           0.03466796875,
           0.05029296875,
           0.00994873046875,
           0.006072998046875,
           0.0390625,
           0.0400390625,
           0.013671875,
           0.026123046875,
           0.01434326171875
          ],
          [
           0.01123046875,
           0.035400390625,
           0.0108642578125,
           0.01019287109375,
           0.006103515625,
           0.044189453125,
           0.01513671875,
           0.0174560546875,
           0.00823974609375,
           0.055419921875,
           0.033935546875,
           0.01068115234375,
           0.039794921875,
           0.00927734375,
           0.095703125,
           0.02880859375
          ],
          [
           0.01300048828125,
           0.01318359375,
           0.004638671875,
           0.026611328125,
           0.01092529296875,
           0.00019931793212890625,
           0.0263671875,
           0.000640869140625,
           0.003326416015625,
           0.0272216796875,
           0.00494384765625,
           0.0018768310546875,
           0.03173828125,
           0.00238037109375,
           0.052978515625,
           0.014892578125
          ],
          [
           0.06689453125,
           0.01129150390625,
           0.00958251953125,
           0.02685546875,
           0.003143310546875,
           0.00007772445678710938,
           0.009765625,
           0.0191650390625,
           0.00141143798828125,
           0.003173828125,
           0.0203857421875,
           0.01116943359375,
           0.01177978515625,
           0.0267333984375,
           0.01123046875,
           0.00848388671875
          ],
          [
           0.01129150390625,
           0.00885009765625,
           0.000766754150390625,
           0.02001953125,
           0.0169677734375,
           0.0098876953125,
           0.0240478515625,
           0.00127410888671875,
           0.0002536773681640625,
           0.0023040771484375,
           0.00140380859375,
           0.0107421875,
           0.00244140625,
           0.000004380941390991211,
           0.0030975341796875,
           0.00127410888671875
          ],
          [
           0.01141357421875,
           0.1728515625,
           0.0142822265625,
           0.059326171875,
           0.009521484375,
           0.0029144287109375,
           0.01507568359375,
           0.00057220458984375,
           0.014404296875,
           0.00347900390625,
           0.01708984375,
           0.0142822265625,
           0.0037384033203125,
           0.0111083984375,
           0.0089111328125,
           0.00994873046875
          ],
          [
           0.0074462890625,
           0.000637054443359375,
           0.00946044921875,
           0.0172119140625,
           0.0072021484375,
           0.1689453125,
           0.003143310546875,
           0.02099609375,
           0.005279541015625,
           0.010498046875,
           0.0106201171875,
           0.01397705078125,
           0.00701904296875,
           0.007720947265625,
           0.0120849609375,
           0.0150146484375
          ],
          [
           0.0086669921875,
           0.00011014938354492188,
           0.0035858154296875,
           0.008544921875,
           0.0086669921875,
           0.00762939453125,
           0.00982666015625,
           0.00787353515625,
           0.008544921875,
           0.019287109375,
           0.00001621246337890625,
           0.000020384788513183594,
           0.004302978515625,
           0.0185546875,
           0.00933837890625,
           0.00311279296875
          ],
          [
           0.0048828125,
           0.0206298828125,
           0.0064697265625,
           0.00750732421875,
           0.003204345703125,
           0.006988525390625,
           0.004852294921875,
           0.01123046875,
           0.03271484375,
           0.00335693359375,
           0.00051116943359375,
           0.0027008056640625,
           0.00811767578125,
           0.006317138671875,
           0.000514984130859375,
           0.01043701171875
          ],
          [
           0.00170135498046875,
           0.000019431114196777344,
           0.00665283203125,
           0.00018405914306640625,
           0.0004062652587890625,
           0.0007171630859375,
           0.008056640625,
           0.00012493133544921875,
           0.000006377696990966797,
           0.00799560546875,
           0.00003361701965332031,
           0.0032196044921875,
           0.0216064453125,
           0.00396728515625,
           0.005950927734375,
           0.01385498046875
          ],
          [
           0.00445556640625,
           0.00130462646484375,
           0.01202392578125,
           0.00823974609375,
           0.00872802734375,
           0.0030975341796875,
           0.005523681640625,
           0.041259765625,
           0.00616455078125,
           0.0019378662109375,
           0.005889892578125,
           0.00360107421875,
           0.0081787109375,
           0.01025390625,
           0.00506591796875,
           0.00860595703125
          ],
          [
           0.0118408203125,
           0.01190185546875,
           0.00019168853759765625,
           0.004669189453125,
           0.00848388671875,
           0.00531005859375,
           0.01068115234375,
           0.000598907470703125,
           0.0137939453125,
           0.00830078125,
           0.006988525390625,
           0.000002905726432800293,
           0.004241943359375,
           0.0078125,
           0.003509521484375,
           0.00005507469177246094
          ],
          [
           0.00592041015625,
           0.0042724609375,
           0.0164794921875,
           0.000720977783203125,
           0.0032196044921875,
           0.0040283203125,
           0.0026397705078125,
           0.0146484375,
           0.01611328125,
           0.01409912109375,
           0.01409912109375,
           0.01312255859375,
           0.00689697265625,
           0.013427734375,
           0.00921630859375,
           0.004547119140625
          ],
          [
           0.0118408203125,
           0.000012278556823730469,
           0.005645751953125,
           0.003448486328125,
           0.00165557861328125,
           0.0025634765625,
           0.005523681640625,
           0.006866455078125,
           0.0001583099365234375,
           0.00009965896606445312,
           0.0189208984375,
           0.000507354736328125,
           0.0002994537353515625,
           0.00011777877807617188,
           0.0098876953125,
           0.00128936767578125
          ],
          [
           0.0007476806640625,
           0.00897216796875,
           0.006072998046875,
           0.0045166015625,
           0.0078125,
           0.00799560546875,
           0.00113677978515625,
           0.005584716796875,
           0.000293731689453125,
           0.00921630859375,
           0.013427734375,
           0.00164794921875,
           0.004608154296875,
           0.01361083984375,
           0.0022735595703125,
           0.006439208984375
          ],
          [
           0.00244140625,
           0.0032196044921875,
           0.003143310546875,
           0.000949859619140625,
           0.0001316070556640625,
           0.0028228759765625,
           0.004974365234375,
           0.0098876953125,
           0.0001430511474609375,
           0.004669189453125,
           0.000021457672119140625,
           0.00173187255859375,
           0.00604248046875,
           0.0029754638671875,
           0.006317138671875,
           0.0034637451171875
          ],
          [
           0.0017547607421875,
           0.007293701171875,
           0.00335693359375,
           0.0008087158203125,
           0.00408935546875,
           0.0021514892578125,
           0.0172119140625,
           0.01409912109375,
           0.00799560546875,
           0.00665283203125,
           0.00182342529296875,
           0.0025787353515625,
           0.004302978515625,
           0.00775146484375,
           0.0037078857421875,
           0.004974365234375
          ],
          [
           0.006103515625,
           0.0150146484375,
           0.0087890625,
           0.007568359375,
           0.01031494140625,
           0.0106201171875,
           0.0189208984375,
           0.00567626953125,
           0.0162353515625,
           0.004364013671875,
           0.0118408203125,
           0.0020751953125,
           0.00518798828125,
           0.025146484375,
           0.004547119140625,
           0.0016326904296875
          ],
          [
           0.004974365234375,
           0.00384521484375,
           0.01708984375,
           0.00921630859375,
           0.0128173828125,
           0.006378173828125,
           0.014892578125,
           0.00567626953125,
           0.006072998046875,
           0.00144195556640625,
           0.0030670166015625,
           0.0203857421875,
           0.007080078125,
           0.00982666015625,
           0.00799560546875,
           0.00433349609375
          ],
          [
           0.01092529296875,
           0.006561279296875,
           0.00616455078125,
           0.00927734375,
           0.00927734375,
           0.004974365234375,
           0.002105712890625,
           0.01275634765625,
           0.0078125,
           0.00665283203125,
           0.0035400390625,
           0.004638671875,
           0.0037841796875,
           0.005767822265625,
           0.0034332275390625,
           0.00689697265625
          ],
          [
           0.00537109375,
           0.004791259765625,
           0.0050048828125,
           0.002899169921875,
           0.0076904296875,
           0.0040283203125,
           0.00897216796875,
           0.002288818359375,
           0.0084228515625,
           0.0135498046875,
           0.005279541015625,
           0.0021209716796875,
           0.004638671875,
           0.0091552734375,
           0.00506591796875,
           0.005462646484375
          ],
          [
           0.0059814453125,
           0.00579833984375,
           0.00439453125,
           0.010009765625,
           0.0101318359375,
           0.00830078125,
           0.007049560546875,
           0.00135040283203125,
           0.0047607421875,
           0.005035400390625,
           0.0089111328125,
           0.002593994140625,
           0.0106201171875,
           0.015869140625,
           0.0108642578125,
           0.0181884765625
          ]
         ],
         "zmax": 1,
         "zmin": 0
        },
        {
         "coloraxis": "coloraxis",
         "type": "heatmap",
         "xaxis": "x2",
         "yaxis": "y2",
         "z": [
          [
           0.0091552734375,
           0.013671875,
           0.00023651123046875,
           0.0079345703125,
           0.00958251953125,
           0.01092529296875,
           0.0011444091796875,
           0.01495361328125,
           0.01123046875,
           0.0257568359375,
           0.00872802734375,
           0.004638671875,
           0.01116943359375,
           0.004150390625,
           0.0125732421875,
           0.01123046875
          ],
          [
           0.000006139278411865234,
           0.001129150390625,
           0.002044677734375,
           0.0142822265625,
           0.01043701171875,
           0.0133056640625,
           0.0089111328125,
           0.0004138946533203125,
           0.013916015625,
           0.0081787109375,
           0.010498046875,
           0.0024566650390625,
           0.00003170967102050781,
           0.01104736328125,
           0.01953125,
           0.0031890869140625
          ],
          [
           0.022705078125,
           0.0179443359375,
           0.01422119140625,
           0.00872802734375,
           0.01446533203125,
           0.010986328125,
           0.011962890625,
           0.01080322265625,
           0.004638671875,
           0.01080322265625,
           0.006561279296875,
           0.05712890625,
           0.01007080078125,
           0.01068115234375,
           0.00885009765625,
           0.01226806640625
          ],
          [
           0.01043701171875,
           0.01025390625,
           0.0087890625,
           0.0042724609375,
           0.007171630859375,
           0.0106201171875,
           0.01458740234375,
           0.01953125,
           0.00762939453125,
           0.000946044921875,
           0.031982421875,
           0.0111083984375,
           0.01220703125,
           0.0068359375,
           0.00006437301635742188,
           0.0169677734375
          ],
          [
           0.0179443359375,
           0.016845703125,
           0.000008285045623779297,
           0.00005841255187988281,
           0.015869140625,
           0.0001888275146484375,
           0.04150390625,
           0.006072998046875,
           0.00457763671875,
           0.01458740234375,
           0.00482177734375,
           0.00004220008850097656,
           0.07958984375,
           0.0029144287109375,
           0.02880859375,
           0.016357421875
          ],
          [
           0.000850677490234375,
           0.01025390625,
           0.006805419921875,
           0.01531982421875,
           0.000007599592208862305,
           0.00011157989501953125,
           0.01904296875,
           0.0250244140625,
           0.000942230224609375,
           0.00311279296875,
           0.019287109375,
           0.0186767578125,
           0.00994873046875,
           0.0341796875,
           0.01287841796875,
           0.004302978515625
          ],
          [
           0.0098876953125,
           0.0130615234375,
           0.000682830810546875,
           0.01422119140625,
           0.025146484375,
           0.0091552734375,
           0.0235595703125,
           0.00103759765625,
           0.000301361083984375,
           0.004364013671875,
           0.0015411376953125,
           0.01055908203125,
           0.00323486328125,
           0.000007599592208862305,
           0.00244140625,
           0.000385284423828125
          ],
          [
           0.00933837890625,
           0.0000762939453125,
           0.0218505859375,
           0.000002562999725341797,
           0.0242919921875,
           0.0084228515625,
           0.11181640625,
           0.00087738037109375,
           0.0235595703125,
           0.007049560546875,
           0.02294921875,
           0.01080322265625,
           0.006622314453125,
           0.0086669921875,
           0.01177978515625,
           0.01470947265625
          ],
          [
           0.004180908203125,
           0.28515625,
           0.009765625,
           0.004150390625,
           0.00994873046875,
           0.0012359619140625,
           0.005950927734375,
           0.0255126953125,
           0.01190185546875,
           0.01165771484375,
           0.006988525390625,
           0.056640625,
           0.005950927734375,
           0.01495361328125,
           0.0130615234375,
           0.10498046875
          ],
          [
           0.01116943359375,
           0.0233154296875,
           0.009521484375,
           0.016845703125,
           0.0224609375,
           0.03271484375,
           0.01055908203125,
           0.010498046875,
           0.00872802734375,
           0.0216064453125,
           0.061767578125,
           0.01806640625,
           0.00408935546875,
           0.00830078125,
           0.0108642578125,
           0.0027923583984375
          ],
          [
           0.00860595703125,
           0.0322265625,
           0.0133056640625,
           0.010986328125,
           0.0093994140625,
           0.0673828125,
           0.0103759765625,
           0.01806640625,
           0.0191650390625,
           0.0079345703125,
           0.71875,
           0.007171630859375,
           0.006378173828125,
           0.0087890625,
           0.1796875,
           0.0289306640625
          ],
          [
           0.0703125,
           0.0032196044921875,
           0.0059814453125,
           0.07373046875,
           0.005950927734375,
           0.248046875,
           0.0054931640625,
           0.451171875,
           0.000438690185546875,
           0.006866455078125,
           0.0257568359375,
           0.859375,
           0.0086669921875,
           0.007080078125,
           0.007568359375,
           0.0244140625
          ],
          [
           0.0037078857421875,
           0.57421875,
           0.04052734375,
           0.016357421875,
           0.0177001953125,
           0.0021820068359375,
           0.01226806640625,
           0.07421875,
           0.0166015625,
           0.031982421875,
           0.01806640625,
           0.006195068359375,
           0.01171875,
           0.0169677734375,
           0.0145263671875,
           0.02587890625
          ],
          [
           0.06494140625,
           0.02294921875,
           0.328125,
           0.0101318359375,
           0.0147705078125,
           0.01495361328125,
           0.010498046875,
           0.1484375,
           0.080078125,
           0.0146484375,
           0.009765625,
           0.000507354736328125,
           0.0260009765625,
           0.025146484375,
           0.007354736328125,
           0.039306640625
          ],
          [
           0.01068115234375,
           0.11865234375,
           0.0201416015625,
           0.1455078125,
           0.011962890625,
           0.01141357421875,
           0.004638671875,
           0.0291748046875,
           0.01806640625,
           0.0211181640625,
           0.031494140625,
           0.015869140625,
           0.00885009765625,
           0.034912109375,
           0.01202392578125,
           0.00872802734375
          ],
          [
           0.0174560546875,
           0.00083160400390625,
           0.00653076171875,
           0.0103759765625,
           0.162109375,
           0.01458740234375,
           0.0048828125,
           0.01104736328125,
           0.04638671875,
           0.040771484375,
           0.0179443359375,
           0.875,
           0.28515625,
           0.0625,
           0.0198974609375,
           0.1435546875
          ],
          [
           0.006927490234375,
           0.017578125,
           0.006988525390625,
           0.006927490234375,
           0.00927734375,
           0.1103515625,
           0.09375,
           0.1298828125,
           0.9296875,
           0.01214599609375,
           0.0123291015625,
           0.01300048828125,
           0.005157470703125,
           0.022216796875,
           0.00958251953125,
           0.0027618408203125
          ],
          [
           0.0115966796875,
           0.515625,
           0.00628662109375,
           0.08935546875,
           0.0093994140625,
           0.011962890625,
           0.71484375,
           0.0123291015625,
           0.0032806396484375,
           0.51953125,
           0.00028228759765625,
           0.0076904296875,
           0.35546875,
           0.00927734375,
           0.01531982421875,
           0.01611328125
          ],
          [
           0.2001953125,
           0.01470947265625,
           0.004302978515625,
           0.130859375,
           0.0076904296875,
           0.060791015625,
           0.025634765625,
           0.333984375,
           0.0087890625,
           0.0230712890625,
           0.0048828125,
           0.0194091796875,
           0.016845703125,
           0.263671875,
           0.0064697265625,
           0.059326171875
          ],
          [
           0.0308837890625,
           0.0164794921875,
           0.014404296875,
           0.01953125,
           0.052978515625,
           0.3515625,
           0.026611328125,
           0.024658203125,
           0.0203857421875,
           0.00634765625,
           0.021484375,
           0.0059814453125,
           0.033935546875,
           0.26171875,
           0.005706787109375,
           0.00167083740234375
          ],
          [
           0.01544189453125,
           0.1328125,
           0.291015625,
           0.056396484375,
           0.0126953125,
           0.00408935546875,
           0.0211181640625,
           0.006622314453125,
           0.00860595703125,
           0.0031585693359375,
           0.004058837890625,
           0.02734375,
           0.017578125,
           0.01007080078125,
           0.01611328125,
           0.00616455078125
          ],
          [
           0.017822265625,
           0.01153564453125,
           0.007415771484375,
           0.0107421875,
           0.02392578125,
           0.007720947265625,
           0.001922607421875,
           0.020263671875,
           0.0079345703125,
           0.02978515625,
           0.003204345703125,
           0.0257568359375,
           0.00531005859375,
           0.00738525390625,
           0.0024871826171875,
           0.005401611328125
          ],
          [
           0.000911712646484375,
           0.005157470703125,
           0.005645751953125,
           0.0037994384765625,
           0.0159912109375,
           0.003662109375,
           0.007476806640625,
           0.004486083984375,
           0.01531982421875,
           0.00750732421875,
           0.0013275146484375,
           0.00360107421875,
           0.0030975341796875,
           0.021240234375,
           0.006134033203125,
           0.00897216796875
          ],
          [
           0.005218505859375,
           0.007110595703125,
           0.000934600830078125,
           0.00787353515625,
           0.00146484375,
           0.00154876708984375,
           0.00799560546875,
           0.0013885498046875,
           0.002197265625,
           0.004547119140625,
           0.010009765625,
           0.002838134765625,
           0.003753662109375,
           0.00130462646484375,
           0.0033416748046875,
           0.043701171875
          ]
         ],
         "zmax": 1,
         "zmin": 0
        }
       ],
       "layout": {
        "annotations": [
         {
          "font": {
           "size": 16
          },
          "showarrow": false,
          "text": "Current token",
          "x": 0.225,
          "xanchor": "center",
          "xref": "paper",
          "y": 1,
          "yanchor": "bottom",
          "yref": "paper"
         },
         {
          "font": {
           "size": 16
          },
          "showarrow": false,
          "text": "Token to right of current",
          "x": 0.775,
          "xanchor": "center",
          "xref": "paper",
          "y": 1,
          "yanchor": "bottom",
          "yref": "paper"
         }
        ],
        "coloraxis": {
         "cmax": 1,
         "cmin": 0,
         "colorbar": {
          "title": {
           "text": "Attention Score"
          }
         }
        },
        "height": 500,
        "template": {
         "data": {
          "bar": [
           {
            "error_x": {
             "color": "#2a3f5f"
            },
            "error_y": {
             "color": "#2a3f5f"
            },
            "marker": {
             "line": {
              "color": "#E5ECF6",
              "width": 0.5
             },
             "pattern": {
              "fillmode": "overlay",
              "size": 10,
              "solidity": 0.2
             }
            },
            "type": "bar"
           }
          ],
          "barpolar": [
           {
            "marker": {
             "line": {
              "color": "#E5ECF6",
              "width": 0.5
             },
             "pattern": {
              "fillmode": "overlay",
              "size": 10,
              "solidity": 0.2
             }
            },
            "type": "barpolar"
           }
          ],
          "carpet": [
           {
            "aaxis": {
             "endlinecolor": "#2a3f5f",
             "gridcolor": "white",
             "linecolor": "white",
             "minorgridcolor": "white",
             "startlinecolor": "#2a3f5f"
            },
            "baxis": {
             "endlinecolor": "#2a3f5f",
             "gridcolor": "white",
             "linecolor": "white",
             "minorgridcolor": "white",
             "startlinecolor": "#2a3f5f"
            },
            "type": "carpet"
           }
          ],
          "choropleth": [
           {
            "colorbar": {
             "outlinewidth": 0,
             "ticks": ""
            },
            "type": "choropleth"
           }
          ],
          "contour": [
           {
            "colorbar": {
             "outlinewidth": 0,
             "ticks": ""
            },
            "colorscale": [
             [
              0,
              "#0d0887"
             ],
             [
              0.1111111111111111,
              "#46039f"
             ],
             [
              0.2222222222222222,
              "#7201a8"
             ],
             [
              0.3333333333333333,
              "#9c179e"
             ],
             [
              0.4444444444444444,
              "#bd3786"
             ],
             [
              0.5555555555555556,
              "#d8576b"
             ],
             [
              0.6666666666666666,
              "#ed7953"
             ],
             [
              0.7777777777777778,
              "#fb9f3a"
             ],
             [
              0.8888888888888888,
              "#fdca26"
             ],
             [
              1,
              "#f0f921"
             ]
            ],
            "type": "contour"
           }
          ],
          "contourcarpet": [
           {
            "colorbar": {
             "outlinewidth": 0,
             "ticks": ""
            },
            "type": "contourcarpet"
           }
          ],
          "heatmap": [
           {
            "colorbar": {
             "outlinewidth": 0,
             "ticks": ""
            },
            "colorscale": [
             [
              0,
              "#0d0887"
             ],
             [
              0.1111111111111111,
              "#46039f"
             ],
             [
              0.2222222222222222,
              "#7201a8"
             ],
             [
              0.3333333333333333,
              "#9c179e"
             ],
             [
              0.4444444444444444,
              "#bd3786"
             ],
             [
              0.5555555555555556,
              "#d8576b"
             ],
             [
              0.6666666666666666,
              "#ed7953"
             ],
             [
              0.7777777777777778,
              "#fb9f3a"
             ],
             [
              0.8888888888888888,
              "#fdca26"
             ],
             [
              1,
              "#f0f921"
             ]
            ],
            "type": "heatmap"
           }
          ],
          "histogram": [
           {
            "marker": {
             "pattern": {
              "fillmode": "overlay",
              "size": 10,
              "solidity": 0.2
             }
            },
            "type": "histogram"
           }
          ],
          "histogram2d": [
           {
            "colorbar": {
             "outlinewidth": 0,
             "ticks": ""
            },
            "colorscale": [
             [
              0,
              "#0d0887"
             ],
             [
              0.1111111111111111,
              "#46039f"
             ],
             [
              0.2222222222222222,
              "#7201a8"
             ],
             [
              0.3333333333333333,
              "#9c179e"
             ],
             [
              0.4444444444444444,
              "#bd3786"
             ],
             [
              0.5555555555555556,
              "#d8576b"
             ],
             [
              0.6666666666666666,
              "#ed7953"
             ],
             [
              0.7777777777777778,
              "#fb9f3a"
             ],
             [
              0.8888888888888888,
              "#fdca26"
             ],
             [
              1,
              "#f0f921"
             ]
            ],
            "type": "histogram2d"
           }
          ],
          "histogram2dcontour": [
           {
            "colorbar": {
             "outlinewidth": 0,
             "ticks": ""
            },
            "colorscale": [
             [
              0,
              "#0d0887"
             ],
             [
              0.1111111111111111,
              "#46039f"
             ],
             [
              0.2222222222222222,
              "#7201a8"
             ],
             [
              0.3333333333333333,
              "#9c179e"
             ],
             [
              0.4444444444444444,
              "#bd3786"
             ],
             [
              0.5555555555555556,
              "#d8576b"
             ],
             [
              0.6666666666666666,
              "#ed7953"
             ],
             [
              0.7777777777777778,
              "#fb9f3a"
             ],
             [
              0.8888888888888888,
              "#fdca26"
             ],
             [
              1,
              "#f0f921"
             ]
            ],
            "type": "histogram2dcontour"
           }
          ],
          "mesh3d": [
           {
            "colorbar": {
             "outlinewidth": 0,
             "ticks": ""
            },
            "type": "mesh3d"
           }
          ],
          "parcoords": [
           {
            "line": {
             "colorbar": {
              "outlinewidth": 0,
              "ticks": ""
             }
            },
            "type": "parcoords"
           }
          ],
          "pie": [
           {
            "automargin": true,
            "type": "pie"
           }
          ],
          "scatter": [
           {
            "fillpattern": {
             "fillmode": "overlay",
             "size": 10,
             "solidity": 0.2
            },
            "type": "scatter"
           }
          ],
          "scatter3d": [
           {
            "line": {
             "colorbar": {
              "outlinewidth": 0,
              "ticks": ""
             }
            },
            "marker": {
             "colorbar": {
              "outlinewidth": 0,
              "ticks": ""
             }
            },
            "type": "scatter3d"
           }
          ],
          "scattercarpet": [
           {
            "marker": {
             "colorbar": {
              "outlinewidth": 0,
              "ticks": ""
             }
            },
            "type": "scattercarpet"
           }
          ],
          "scattergeo": [
           {
            "marker": {
             "colorbar": {
              "outlinewidth": 0,
              "ticks": ""
             }
            },
            "type": "scattergeo"
           }
          ],
          "scattergl": [
           {
            "marker": {
             "colorbar": {
              "outlinewidth": 0,
              "ticks": ""
             }
            },
            "type": "scattergl"
           }
          ],
          "scattermap": [
           {
            "marker": {
             "colorbar": {
              "outlinewidth": 0,
              "ticks": ""
             }
            },
            "type": "scattermap"
           }
          ],
          "scattermapbox": [
           {
            "marker": {
             "colorbar": {
              "outlinewidth": 0,
              "ticks": ""
             }
            },
            "type": "scattermapbox"
           }
          ],
          "scatterpolar": [
           {
            "marker": {
             "colorbar": {
              "outlinewidth": 0,
              "ticks": ""
             }
            },
            "type": "scatterpolar"
           }
          ],
          "scatterpolargl": [
           {
            "marker": {
             "colorbar": {
              "outlinewidth": 0,
              "ticks": ""
             }
            },
            "type": "scatterpolargl"
           }
          ],
          "scatterternary": [
           {
            "marker": {
             "colorbar": {
              "outlinewidth": 0,
              "ticks": ""
             }
            },
            "type": "scatterternary"
           }
          ],
          "surface": [
           {
            "colorbar": {
             "outlinewidth": 0,
             "ticks": ""
            },
            "colorscale": [
             [
              0,
              "#0d0887"
             ],
             [
              0.1111111111111111,
              "#46039f"
             ],
             [
              0.2222222222222222,
              "#7201a8"
             ],
             [
              0.3333333333333333,
              "#9c179e"
             ],
             [
              0.4444444444444444,
              "#bd3786"
             ],
             [
              0.5555555555555556,
              "#d8576b"
             ],
             [
              0.6666666666666666,
              "#ed7953"
             ],
             [
              0.7777777777777778,
              "#fb9f3a"
             ],
             [
              0.8888888888888888,
              "#fdca26"
             ],
             [
              1,
              "#f0f921"
             ]
            ],
            "type": "surface"
           }
          ],
          "table": [
           {
            "cells": {
             "fill": {
              "color": "#EBF0F8"
             },
             "line": {
              "color": "white"
             }
            },
            "header": {
             "fill": {
              "color": "#C8D4E3"
             },
             "line": {
              "color": "white"
             }
            },
            "type": "table"
           }
          ]
         },
         "layout": {
          "annotationdefaults": {
           "arrowcolor": "#2a3f5f",
           "arrowhead": 0,
           "arrowwidth": 1
          },
          "autotypenumbers": "strict",
          "coloraxis": {
           "colorbar": {
            "outlinewidth": 0,
            "ticks": ""
           }
          },
          "colorscale": {
           "diverging": [
            [
             0,
             "#8e0152"
            ],
            [
             0.1,
             "#c51b7d"
            ],
            [
             0.2,
             "#de77ae"
            ],
            [
             0.3,
             "#f1b6da"
            ],
            [
             0.4,
             "#fde0ef"
            ],
            [
             0.5,
             "#f7f7f7"
            ],
            [
             0.6,
             "#e6f5d0"
            ],
            [
             0.7,
             "#b8e186"
            ],
            [
             0.8,
             "#7fbc41"
            ],
            [
             0.9,
             "#4d9221"
            ],
            [
             1,
             "#276419"
            ]
           ],
           "sequential": [
            [
             0,
             "#0d0887"
            ],
            [
             0.1111111111111111,
             "#46039f"
            ],
            [
             0.2222222222222222,
             "#7201a8"
            ],
            [
             0.3333333333333333,
             "#9c179e"
            ],
            [
             0.4444444444444444,
             "#bd3786"
            ],
            [
             0.5555555555555556,
             "#d8576b"
            ],
            [
             0.6666666666666666,
             "#ed7953"
            ],
            [
             0.7777777777777778,
             "#fb9f3a"
            ],
            [
             0.8888888888888888,
             "#fdca26"
            ],
            [
             1,
             "#f0f921"
            ]
           ],
           "sequentialminus": [
            [
             0,
             "#0d0887"
            ],
            [
             0.1111111111111111,
             "#46039f"
            ],
            [
             0.2222222222222222,
             "#7201a8"
            ],
            [
             0.3333333333333333,
             "#9c179e"
            ],
            [
             0.4444444444444444,
             "#bd3786"
            ],
            [
             0.5555555555555556,
             "#d8576b"
            ],
            [
             0.6666666666666666,
             "#ed7953"
            ],
            [
             0.7777777777777778,
             "#fb9f3a"
            ],
            [
             0.8888888888888888,
             "#fdca26"
            ],
            [
             1,
             "#f0f921"
            ]
           ]
          },
          "colorway": [
           "#636efa",
           "#EF553B",
           "#00cc96",
           "#ab63fa",
           "#FFA15A",
           "#19d3f3",
           "#FF6692",
           "#B6E880",
           "#FF97FF",
           "#FECB52"
          ],
          "font": {
           "color": "#2a3f5f"
          },
          "geo": {
           "bgcolor": "white",
           "lakecolor": "white",
           "landcolor": "#E5ECF6",
           "showlakes": true,
           "showland": true,
           "subunitcolor": "white"
          },
          "hoverlabel": {
           "align": "left"
          },
          "hovermode": "closest",
          "mapbox": {
           "style": "light"
          },
          "paper_bgcolor": "white",
          "plot_bgcolor": "#E5ECF6",
          "polar": {
           "angularaxis": {
            "gridcolor": "white",
            "linecolor": "white",
            "ticks": ""
           },
           "bgcolor": "#E5ECF6",
           "radialaxis": {
            "gridcolor": "white",
            "linecolor": "white",
            "ticks": ""
           }
          },
          "scene": {
           "xaxis": {
            "backgroundcolor": "#E5ECF6",
            "gridcolor": "white",
            "gridwidth": 2,
            "linecolor": "white",
            "showbackground": true,
            "ticks": "",
            "zerolinecolor": "white"
           },
           "yaxis": {
            "backgroundcolor": "#E5ECF6",
            "gridcolor": "white",
            "gridwidth": 2,
            "linecolor": "white",
            "showbackground": true,
            "ticks": "",
            "zerolinecolor": "white"
           },
           "zaxis": {
            "backgroundcolor": "#E5ECF6",
            "gridcolor": "white",
            "gridwidth": 2,
            "linecolor": "white",
            "showbackground": true,
            "ticks": "",
            "zerolinecolor": "white"
           }
          },
          "shapedefaults": {
           "line": {
            "color": "#2a3f5f"
           }
          },
          "ternary": {
           "aaxis": {
            "gridcolor": "white",
            "linecolor": "white",
            "ticks": ""
           },
           "baxis": {
            "gridcolor": "white",
            "linecolor": "white",
            "ticks": ""
           },
           "bgcolor": "#E5ECF6",
           "caxis": {
            "gridcolor": "white",
            "linecolor": "white",
            "ticks": ""
           }
          },
          "title": {
           "x": 0.05
          },
          "xaxis": {
           "automargin": true,
           "gridcolor": "white",
           "linecolor": "white",
           "ticks": "",
           "title": {
            "standoff": 15
           },
           "zerolinecolor": "white",
           "zerolinewidth": 2
          },
          "yaxis": {
           "automargin": true,
           "gridcolor": "white",
           "linecolor": "white",
           "ticks": "",
           "title": {
            "standoff": 15
           },
           "zerolinecolor": "white",
           "zerolinewidth": 2
          }
         }
        },
        "title": {
         "text": "Attention Mosaics For Induction on RRTs - RF: 10, SL: 10, Model: chronos-t5-large"
        },
        "width": 1000,
        "xaxis": {
         "anchor": "y",
         "domain": [
          0,
          0.45
         ],
         "dtick": 1,
         "showticklabels": true,
         "tick0": 0,
         "tickmode": "linear",
         "title": {
          "font": {
           "size": 18
          },
          "text": "Head"
         }
        },
        "xaxis2": {
         "anchor": "y2",
         "domain": [
          0.55,
          1
         ],
         "dtick": 1,
         "showticklabels": true,
         "tick0": 0,
         "tickmode": "linear",
         "title": {
          "font": {
           "size": 18
          },
          "text": "Head"
         }
        },
        "yaxis": {
         "anchor": "x",
         "domain": [
          0,
          1
         ],
         "dtick": 1,
         "showticklabels": true,
         "tick0": 0,
         "tickmode": "linear",
         "title": {
          "font": {
           "size": 18
          },
          "text": "Layer"
         }
        },
        "yaxis2": {
         "anchor": "x2",
         "domain": [
          0,
          1
         ],
         "dtick": 1,
         "matches": "y",
         "showticklabels": true,
         "tick0": 0,
         "tickmode": "linear",
         "title": {
          "font": {
           "size": 18
          },
          "text": "Layer"
         }
        }
       }
      }
     },
     "metadata": {},
     "output_type": "display_data"
    },
    {
     "data": {
      "application/vnd.jupyter.widget-view+json": {
       "model_id": "ec7b4c7dd5b34b01b3dbad24149c7b47",
       "version_major": 2,
       "version_minor": 0
      },
      "text/plain": [
       "Button(button_style='success', description='Save Current Figure', style=ButtonStyle())"
      ]
     },
     "metadata": {},
     "output_type": "display_data"
    }
   ],
   "source": [
    "rf = [2, 4, 6, 8, 10]\n",
    "sl = [2, 4, 6, 8, 10]\n",
    "\n",
    "import ipywidgets as widgets\n",
    "import plotly.graph_objects as go\n",
    "from plotly.subplots import make_subplots\n",
    "from IPython.display import display\n",
    "import numpy as np\n",
    "\n",
    "# Create widget for model selection\n",
    "model_dropdown = widgets.Dropdown(\n",
    "    options=model_names,\n",
    "    value=model_names[0],\n",
    "    description='Model:'\n",
    ")\n",
    "\n",
    "# Create ipywidgets for RF and SL selection\n",
    "rf_dropdown = widgets.Dropdown(\n",
    "    options=[(f\"RF: {r}\", r) for r in rf],\n",
    "    value=4,  # Initial value\n",
    "    description='RF:'\n",
    ")\n",
    "\n",
    "sl_dropdown = widgets.Dropdown(\n",
    "    options=[(f\"SL: {s}\", s) for s in sl],\n",
    "    value=10,  # Initial value\n",
    "    description='SL:'\n",
    ")\n",
    "\n",
    "# Create output widget to display the plots\n",
    "output = widgets.Output()\n",
    "\n",
    "def create_figure(current_rf, current_sl, current_model):\n",
    "    # Generate config key\n",
    "    config_key = f\"rf{current_rf}_sl{current_sl}\"\n",
    "    \n",
    "    # Check if config exists in results\n",
    "    if config_key not in all_results:\n",
    "        return go.Figure().update_layout(\n",
    "            annotations=[dict(\n",
    "                text=f\"No data available for configuration: {config_key}\",\n",
    "                showarrow=False,\n",
    "                xref=\"paper\",\n",
    "                yref=\"paper\",\n",
    "                x=0.5,\n",
    "                y=0.5\n",
    "            )]\n",
    "        )\n",
    "    \n",
    "    # Get scores for current configuration\n",
    "    all_center_scores = all_results[config_key][\"center_scores\"]\n",
    "    all_right_scores = all_results[config_key][\"right_scores\"]\n",
    "    \n",
    "    # Check if model exists in scores\n",
    "    if current_model not in all_center_scores or current_model not in all_right_scores:\n",
    "        return go.Figure().update_layout(\n",
    "            annotations=[dict(\n",
    "                text=f\"No data available for model {current_model} with configuration {config_key}\",\n",
    "                showarrow=False,\n",
    "                xref=\"paper\",\n",
    "                yref=\"paper\",\n",
    "                x=0.5,\n",
    "                y=0.5\n",
    "            )]\n",
    "        )\n",
    "    \n",
    "    # Get data for current model\n",
    "    mosaic_center = all_center_scores[current_model]\n",
    "    mosaic_right = all_right_scores[current_model]\n",
    "    \n",
    "    # Create a subplot with 2 side-by-side heatmaps\n",
    "    fig = make_subplots(rows=1, cols=2, \n",
    "                        subplot_titles=(\"Current token\", \"Token to right of current\"),\n",
    "                        shared_yaxes=True)\n",
    "\n",
    "    # Add heatmaps to the subplots\n",
    "    fig.add_trace(\n",
    "        go.Heatmap(z=mosaic_center, zmin=0, zmax=1, coloraxis=\"coloraxis\"),\n",
    "        row=1, col=1\n",
    "    )\n",
    "    fig.add_trace(\n",
    "        go.Heatmap(z=mosaic_right, zmin=0, zmax=1, coloraxis=\"coloraxis\"),\n",
    "        row=1, col=2\n",
    "    )\n",
    "\n",
    "    # Update layout\n",
    "    fig.update_layout(\n",
    "        title_text=f\"Attention Mosaics For Induction on RRTs - RF: {current_rf}, SL: {current_sl}, Model: {current_model.split('/')[-1]}\",\n",
    "        height=500,\n",
    "        width=1000,\n",
    "        coloraxis=dict(cmin=0, cmax=1, colorbar=dict(title=\"Attention Score\"))\n",
    "    )\n",
    "\n",
    "    # Add axes labels with integer ticks\n",
    "    fig.update_xaxes(title_text=\"Head\", row=1, col=1, title_font=dict(size=18), \n",
    "                    tickmode='linear', tick0=0, dtick=1, showticklabels=True)\n",
    "    fig.update_xaxes(title_text=\"Head\", row=1, col=2, title_font=dict(size=18), \n",
    "                    tickmode='linear', tick0=0, dtick=1, showticklabels=True)\n",
    "    fig.update_yaxes(title_text=\"Layer\", row=1, col=1, title_font=dict(size=18), \n",
    "                    tickmode='linear', tick0=0, dtick=1, showticklabels=True)\n",
    "    fig.update_yaxes(title_text=\"Layer\", row=1, col=2, title_font=dict(size=18), \n",
    "                    tickmode='linear', tick0=0, dtick=1, showticklabels=True)\n",
    "    \n",
    "    return fig\n",
    "\n",
    "# Update function for all widget changes\n",
    "def update_plot(*args):\n",
    "    with output:\n",
    "        output.clear_output(wait=True)\n",
    "        current_model = model_dropdown.value\n",
    "        current_rf = rf_dropdown.value\n",
    "        current_sl = sl_dropdown.value\n",
    "        \n",
    "        fig = create_figure(current_rf, current_sl, current_model)\n",
    "        fig.show()\n",
    "\n",
    "# Register the update function with all dropdowns\n",
    "model_dropdown.observe(update_plot, names='value')\n",
    "rf_dropdown.observe(update_plot, names='value')\n",
    "sl_dropdown.observe(update_plot, names='value')\n",
    "\n",
    "# Create control panel\n",
    "controls = widgets.HBox([model_dropdown, rf_dropdown, sl_dropdown])\n",
    "\n",
    "# Display widgets and initial plot\n",
    "display(controls)\n",
    "display(output)\n",
    "\n",
    "# Show initial plot\n",
    "with output:\n",
    "    initial_fig = create_figure(rf_dropdown.value, sl_dropdown.value, model_dropdown.value)\n",
    "    initial_fig.show()\n",
    "\n",
    "# Function to save current figure\n",
    "def save_current_figure():\n",
    "    current_model = model_dropdown.value\n",
    "    current_rf = rf_dropdown.value\n",
    "    current_sl = sl_dropdown.value\n",
    "    \n",
    "    with output:\n",
    "        config_key = f\"rf{current_rf}_sl{current_sl}\"\n",
    "        \n",
    "        if config_key not in all_results:\n",
    "            print(f\"No data available for configuration: {config_key}\")\n",
    "            return\n",
    "        \n",
    "        all_center_scores = all_results[config_key][\"center_scores\"]\n",
    "        all_right_scores = all_results[config_key][\"right_scores\"]\n",
    "        \n",
    "        if current_model not in all_center_scores or current_model not in all_right_scores:\n",
    "            print(f\"No data available for model {current_model} with configuration {config_key}\")\n",
    "            return\n",
    "        \n",
    "        mosaic_center = all_center_scores[current_model]\n",
    "        mosaic_right = all_right_scores[current_model]\n",
    "        \n",
    "        fig = make_subplots(rows=1, cols=2, \n",
    "                          subplot_titles=(\"Current token\", \"Token to right of current\"),\n",
    "                          shared_yaxes=True)\n",
    "\n",
    "        fig.add_trace(\n",
    "            go.Heatmap(z=mosaic_center, zmin=0, zmax=1, coloraxis=\"coloraxis\"),\n",
    "            row=1, col=1\n",
    "        )\n",
    "        fig.add_trace(\n",
    "            go.Heatmap(z=mosaic_right, zmin=0, zmax=1, coloraxis=\"coloraxis\"),\n",
    "            row=1, col=2\n",
    "        )\n",
    "\n",
    "        fig.update_layout(\n",
    "            title_text=f\"Attention Mosaics For Induction on RRTs - RF: {current_rf}, SL: {current_sl}, Model: {current_model.split('/')[-1]}\",\n",
    "            height=500,\n",
    "            width=1000,\n",
    "            coloraxis=dict(cmin=0, cmax=1, colorbar=dict(title=\"Attention Score\"))\n",
    "        )\n",
    "\n",
    "        fig.update_xaxes(title_text=\"Head\", row=1, col=1, title_font=dict(size=18), \n",
    "                       tickmode='linear', tick0=0, dtick=1, showticklabels=True)\n",
    "        fig.update_xaxes(title_text=\"Head\", row=1, col=2, title_font=dict(size=18), \n",
    "                       tickmode='linear', tick0=0, dtick=1, showticklabels=True)\n",
    "        fig.update_yaxes(title_text=\"Layer\", row=1, col=1, title_font=dict(size=18), \n",
    "                       tickmode='linear', tick0=0, dtick=1, showticklabels=True)\n",
    "        fig.update_yaxes(title_text=\"Layer\", row=1, col=2, title_font=dict(size=18), \n",
    "                       tickmode='linear', tick0=0, dtick=1, showticklabels=True)\n",
    "        \n",
    "        # manually convert any numpy arrays to lists\n",
    "        for trace in fig.data:\n",
    "            if isinstance(trace.z, np.ndarray):\n",
    "                trace.z = trace.z.tolist()\n",
    "            if hasattr(trace, \"x\") and isinstance(trace.x, np.ndarray):\n",
    "                trace.x = trace.x.tolist()\n",
    "            if hasattr(trace, \"y\") and isinstance(trace.y, np.ndarray):\n",
    "                trace.y = trace.y.tolist()\n",
    "        \n",
    "        os.makedirs(\"plots/json\", exist_ok=True)\n",
    "        output_png_filename = f\"plots/rf{current_rf}_sl{current_sl}_{current_model.split('/')[-1]}\"\n",
    "        output_json_filename = f\"plots/json/rf{current_rf}_sl{current_sl}_{current_model.split('/')[-1]}\"\n",
    "        \n",
    "        fig.write_image(f\"{output_png_filename}.png\")\n",
    "        print(f\"Saved figure to {output_png_filename}.png\")\n",
    "\n",
    "# Create save button\n",
    "save_button = widgets.Button(\n",
    "    description='Save Current Figure',\n",
    "    button_style='success'\n",
    ")\n",
    "save_button.on_click(lambda b: save_current_figure())\n",
    "display(save_button)"
   ]
  }
 ],
 "metadata": {
  "kernelspec": {
   "display_name": "chronos_env",
   "language": "python",
   "name": "python3"
  },
  "language_info": {
   "codemirror_mode": {
    "name": "ipython",
    "version": 3
   },
   "file_extension": ".py",
   "mimetype": "text/x-python",
   "name": "python",
   "nbconvert_exporter": "python",
   "pygments_lexer": "ipython3",
   "version": "3.10.16"
  }
 },
 "nbformat": 4,
 "nbformat_minor": 2
}
