{
 "cells": [
  {
   "cell_type": "code",
   "execution_count": 1,
   "metadata": {},
   "outputs": [
    {
     "name": "stdout",
     "output_type": "stream",
     "text": [
      "[2025-05-21 20:13:32,206] [WARNING] [real_accelerator.py:194:get_accelerator] Setting accelerator to CPU. If you have GPU or other accelerator, we were unable to detect it.\n",
      "[2025-05-21 20:13:32,209] [INFO] [real_accelerator.py:239:get_accelerator] Setting ds_accelerator to cpu (auto detect)\n"
     ]
    }
   ],
   "source": [
    "import torch\n",
    "from chronos import BaseChronosPipeline\n",
    "\n",
    "import numpy as np\n",
    "import pandas as pd\n",
    "\n",
    "import plotly.express as px\n",
    "import plotly.graph_objects as go\n",
    "from plotly.subplots import make_subplots\n",
    "\n",
    "import rrt_utils as rrt\n",
    "import attn_lens as attn"
   ]
  },
  {
   "cell_type": "code",
   "execution_count": 2,
   "metadata": {},
   "outputs": [
    {
     "data": {
      "text/plain": [
       "(torch.Size([100, 27]),\n",
       " tensor([1940, 2750,  354, 2932, 2146, 1921, 3803, 2492, 2185, 1380, 2616, 1127,\n",
       "         1940, 2750,  354, 2932, 2146, 1921, 3803, 2492, 2185, 1380, 2616, 1127,\n",
       "         1940, 2750,    1]),\n",
       " torch.Size([100, 2]),\n",
       " tensor([  0, 354]))"
      ]
     },
     "execution_count": 2,
     "metadata": {},
     "output_type": "execute_result"
    }
   ],
   "source": [
    "# define the vocab as all the tokens except the special tokens\n",
    "vocab = torch.tensor([i for i in range(4096) if i > 1])\n",
    "\n",
    "batch_size = 100\n",
    "num_unique_sequences = 2 # number of unique sequences in the batch\n",
    "repeat_factor = 2 # number of times to repeat the sequences\n",
    "extension = 0 # after repeating everything, repeat this many sequences again\n",
    "sub_extension = 2 # some additional tokens in the next sequence\n",
    "sequence_length = 6 # length of the sequences\n",
    "\n",
    "tokens = [rrt.generate_random_token_ids(vocab, sequence_length, batch_size=batch_size, include_eos=False) for _ in range(num_unique_sequences)]\n",
    "token_ids = rrt.stack_sequences(tokens * repeat_factor + tokens[:extension] + [tokens[extension][:,:sub_extension]])\n",
    "# token_ids = rrt.stack_sequences(tokens * repeat_factor + tokens[:extension])\n",
    "attention_mask = torch.ones_like(token_ids, dtype=torch.bool)\n",
    "\n",
    "decoder_input_ids = torch.cat([torch.zeros((batch_size,1), dtype=torch.long), tokens[extension][:,sub_extension:sub_extension+1]], dim=1)\n",
    "\n",
    "token_ids.shape, token_ids[0,:], decoder_input_ids.shape, decoder_input_ids[0,:]"
   ]
  },
  {
   "cell_type": "code",
   "execution_count": 3,
   "metadata": {},
   "outputs": [
    {
     "name": "stdout",
     "output_type": "stream",
     "text": [
      "Processing amazon/chronos-t5-mini...\n"
     ]
    },
    {
     "data": {
      "application/vnd.plotly.v1+json": {
       "config": {
        "plotlyServerURL": "https://plot.ly"
       },
       "data": [
        {
         "coloraxis": "coloraxis",
         "type": "heatmap",
         "xaxis": "x",
         "yaxis": "y",
         "z": [
          [
           0.005401611328125,
           0.041259765625,
           0.0380859375,
           0.07958984375,
           0.10693359375,
           0.0250244140625,
           0.310546875,
           0.049560546875
          ],
          [
           0.048828125,
           0.0439453125,
           0.34765625,
           0.036865234375,
           0.07470703125,
           0.0311279296875,
           0.0458984375,
           0.047607421875
          ],
          [
           0.19921875,
           0.03662109375,
           0.0390625,
           0.060302734375,
           0.0390625,
           0.04443359375,
           0.09814453125,
           0.047607421875
          ],
          [
           0.03857421875,
           0.035888671875,
           0.0303955078125,
           0.0341796875,
           0.03857421875,
           0.039794921875,
           0.040771484375,
           0.0341796875
          ]
         ],
         "zmax": 1,
         "zmin": 0
        },
        {
         "coloraxis": "coloraxis",
         "type": "heatmap",
         "xaxis": "x2",
         "yaxis": "y2",
         "z": [
          [
           0.0048828125,
           0.03173828125,
           0.033935546875,
           0.0283203125,
           0.026123046875,
           0.0400390625,
           0.01385498046875,
           0.036376953125
          ],
          [
           0.04052734375,
           0.05078125,
           0.030517578125,
           0.031982421875,
           0.16796875,
           0.03759765625,
           0.043701171875,
           0.039306640625
          ],
          [
           0.052001953125,
           0.0703125,
           0.130859375,
           0.1494140625,
           0.095703125,
           0.0595703125,
           0.060546875,
           0.046875
          ],
          [
           0.1337890625,
           0.050537109375,
           0.037841796875,
           0.08447265625,
           0.045654296875,
           0.0634765625,
           0.0888671875,
           0.09814453125
          ]
         ],
         "zmax": 1,
         "zmin": 0
        }
       ],
       "layout": {
        "annotations": [
         {
          "font": {
           "size": 16
          },
          "showarrow": false,
          "text": "Current token",
          "x": 0.225,
          "xanchor": "center",
          "xref": "paper",
          "y": 1,
          "yanchor": "bottom",
          "yref": "paper"
         },
         {
          "font": {
           "size": 16
          },
          "showarrow": false,
          "text": "Token to right of current",
          "x": 0.775,
          "xanchor": "center",
          "xref": "paper",
          "y": 1,
          "yanchor": "bottom",
          "yref": "paper"
         }
        ],
        "coloraxis": {
         "cmax": 1,
         "cmin": 0,
         "colorbar": {
          "title": {
           "text": "Attention Score"
          }
         }
        },
        "height": 500,
        "template": {
         "data": {
          "bar": [
           {
            "error_x": {
             "color": "#2a3f5f"
            },
            "error_y": {
             "color": "#2a3f5f"
            },
            "marker": {
             "line": {
              "color": "#E5ECF6",
              "width": 0.5
             },
             "pattern": {
              "fillmode": "overlay",
              "size": 10,
              "solidity": 0.2
             }
            },
            "type": "bar"
           }
          ],
          "barpolar": [
           {
            "marker": {
             "line": {
              "color": "#E5ECF6",
              "width": 0.5
             },
             "pattern": {
              "fillmode": "overlay",
              "size": 10,
              "solidity": 0.2
             }
            },
            "type": "barpolar"
           }
          ],
          "carpet": [
           {
            "aaxis": {
             "endlinecolor": "#2a3f5f",
             "gridcolor": "white",
             "linecolor": "white",
             "minorgridcolor": "white",
             "startlinecolor": "#2a3f5f"
            },
            "baxis": {
             "endlinecolor": "#2a3f5f",
             "gridcolor": "white",
             "linecolor": "white",
             "minorgridcolor": "white",
             "startlinecolor": "#2a3f5f"
            },
            "type": "carpet"
           }
          ],
          "choropleth": [
           {
            "colorbar": {
             "outlinewidth": 0,
             "ticks": ""
            },
            "type": "choropleth"
           }
          ],
          "contour": [
           {
            "colorbar": {
             "outlinewidth": 0,
             "ticks": ""
            },
            "colorscale": [
             [
              0,
              "#0d0887"
             ],
             [
              0.1111111111111111,
              "#46039f"
             ],
             [
              0.2222222222222222,
              "#7201a8"
             ],
             [
              0.3333333333333333,
              "#9c179e"
             ],
             [
              0.4444444444444444,
              "#bd3786"
             ],
             [
              0.5555555555555556,
              "#d8576b"
             ],
             [
              0.6666666666666666,
              "#ed7953"
             ],
             [
              0.7777777777777778,
              "#fb9f3a"
             ],
             [
              0.8888888888888888,
              "#fdca26"
             ],
             [
              1,
              "#f0f921"
             ]
            ],
            "type": "contour"
           }
          ],
          "contourcarpet": [
           {
            "colorbar": {
             "outlinewidth": 0,
             "ticks": ""
            },
            "type": "contourcarpet"
           }
          ],
          "heatmap": [
           {
            "colorbar": {
             "outlinewidth": 0,
             "ticks": ""
            },
            "colorscale": [
             [
              0,
              "#0d0887"
             ],
             [
              0.1111111111111111,
              "#46039f"
             ],
             [
              0.2222222222222222,
              "#7201a8"
             ],
             [
              0.3333333333333333,
              "#9c179e"
             ],
             [
              0.4444444444444444,
              "#bd3786"
             ],
             [
              0.5555555555555556,
              "#d8576b"
             ],
             [
              0.6666666666666666,
              "#ed7953"
             ],
             [
              0.7777777777777778,
              "#fb9f3a"
             ],
             [
              0.8888888888888888,
              "#fdca26"
             ],
             [
              1,
              "#f0f921"
             ]
            ],
            "type": "heatmap"
           }
          ],
          "histogram": [
           {
            "marker": {
             "pattern": {
              "fillmode": "overlay",
              "size": 10,
              "solidity": 0.2
             }
            },
            "type": "histogram"
           }
          ],
          "histogram2d": [
           {
            "colorbar": {
             "outlinewidth": 0,
             "ticks": ""
            },
            "colorscale": [
             [
              0,
              "#0d0887"
             ],
             [
              0.1111111111111111,
              "#46039f"
             ],
             [
              0.2222222222222222,
              "#7201a8"
             ],
             [
              0.3333333333333333,
              "#9c179e"
             ],
             [
              0.4444444444444444,
              "#bd3786"
             ],
             [
              0.5555555555555556,
              "#d8576b"
             ],
             [
              0.6666666666666666,
              "#ed7953"
             ],
             [
              0.7777777777777778,
              "#fb9f3a"
             ],
             [
              0.8888888888888888,
              "#fdca26"
             ],
             [
              1,
              "#f0f921"
             ]
            ],
            "type": "histogram2d"
           }
          ],
          "histogram2dcontour": [
           {
            "colorbar": {
             "outlinewidth": 0,
             "ticks": ""
            },
            "colorscale": [
             [
              0,
              "#0d0887"
             ],
             [
              0.1111111111111111,
              "#46039f"
             ],
             [
              0.2222222222222222,
              "#7201a8"
             ],
             [
              0.3333333333333333,
              "#9c179e"
             ],
             [
              0.4444444444444444,
              "#bd3786"
             ],
             [
              0.5555555555555556,
              "#d8576b"
             ],
             [
              0.6666666666666666,
              "#ed7953"
             ],
             [
              0.7777777777777778,
              "#fb9f3a"
             ],
             [
              0.8888888888888888,
              "#fdca26"
             ],
             [
              1,
              "#f0f921"
             ]
            ],
            "type": "histogram2dcontour"
           }
          ],
          "mesh3d": [
           {
            "colorbar": {
             "outlinewidth": 0,
             "ticks": ""
            },
            "type": "mesh3d"
           }
          ],
          "parcoords": [
           {
            "line": {
             "colorbar": {
              "outlinewidth": 0,
              "ticks": ""
             }
            },
            "type": "parcoords"
           }
          ],
          "pie": [
           {
            "automargin": true,
            "type": "pie"
           }
          ],
          "scatter": [
           {
            "fillpattern": {
             "fillmode": "overlay",
             "size": 10,
             "solidity": 0.2
            },
            "type": "scatter"
           }
          ],
          "scatter3d": [
           {
            "line": {
             "colorbar": {
              "outlinewidth": 0,
              "ticks": ""
             }
            },
            "marker": {
             "colorbar": {
              "outlinewidth": 0,
              "ticks": ""
             }
            },
            "type": "scatter3d"
           }
          ],
          "scattercarpet": [
           {
            "marker": {
             "colorbar": {
              "outlinewidth": 0,
              "ticks": ""
             }
            },
            "type": "scattercarpet"
           }
          ],
          "scattergeo": [
           {
            "marker": {
             "colorbar": {
              "outlinewidth": 0,
              "ticks": ""
             }
            },
            "type": "scattergeo"
           }
          ],
          "scattergl": [
           {
            "marker": {
             "colorbar": {
              "outlinewidth": 0,
              "ticks": ""
             }
            },
            "type": "scattergl"
           }
          ],
          "scattermap": [
           {
            "marker": {
             "colorbar": {
              "outlinewidth": 0,
              "ticks": ""
             }
            },
            "type": "scattermap"
           }
          ],
          "scattermapbox": [
           {
            "marker": {
             "colorbar": {
              "outlinewidth": 0,
              "ticks": ""
             }
            },
            "type": "scattermapbox"
           }
          ],
          "scatterpolar": [
           {
            "marker": {
             "colorbar": {
              "outlinewidth": 0,
              "ticks": ""
             }
            },
            "type": "scatterpolar"
           }
          ],
          "scatterpolargl": [
           {
            "marker": {
             "colorbar": {
              "outlinewidth": 0,
              "ticks": ""
             }
            },
            "type": "scatterpolargl"
           }
          ],
          "scatterternary": [
           {
            "marker": {
             "colorbar": {
              "outlinewidth": 0,
              "ticks": ""
             }
            },
            "type": "scatterternary"
           }
          ],
          "surface": [
           {
            "colorbar": {
             "outlinewidth": 0,
             "ticks": ""
            },
            "colorscale": [
             [
              0,
              "#0d0887"
             ],
             [
              0.1111111111111111,
              "#46039f"
             ],
             [
              0.2222222222222222,
              "#7201a8"
             ],
             [
              0.3333333333333333,
              "#9c179e"
             ],
             [
              0.4444444444444444,
              "#bd3786"
             ],
             [
              0.5555555555555556,
              "#d8576b"
             ],
             [
              0.6666666666666666,
              "#ed7953"
             ],
             [
              0.7777777777777778,
              "#fb9f3a"
             ],
             [
              0.8888888888888888,
              "#fdca26"
             ],
             [
              1,
              "#f0f921"
             ]
            ],
            "type": "surface"
           }
          ],
          "table": [
           {
            "cells": {
             "fill": {
              "color": "#EBF0F8"
             },
             "line": {
              "color": "white"
             }
            },
            "header": {
             "fill": {
              "color": "#C8D4E3"
             },
             "line": {
              "color": "white"
             }
            },
            "type": "table"
           }
          ]
         },
         "layout": {
          "annotationdefaults": {
           "arrowcolor": "#2a3f5f",
           "arrowhead": 0,
           "arrowwidth": 1
          },
          "autotypenumbers": "strict",
          "coloraxis": {
           "colorbar": {
            "outlinewidth": 0,
            "ticks": ""
           }
          },
          "colorscale": {
           "diverging": [
            [
             0,
             "#8e0152"
            ],
            [
             0.1,
             "#c51b7d"
            ],
            [
             0.2,
             "#de77ae"
            ],
            [
             0.3,
             "#f1b6da"
            ],
            [
             0.4,
             "#fde0ef"
            ],
            [
             0.5,
             "#f7f7f7"
            ],
            [
             0.6,
             "#e6f5d0"
            ],
            [
             0.7,
             "#b8e186"
            ],
            [
             0.8,
             "#7fbc41"
            ],
            [
             0.9,
             "#4d9221"
            ],
            [
             1,
             "#276419"
            ]
           ],
           "sequential": [
            [
             0,
             "#0d0887"
            ],
            [
             0.1111111111111111,
             "#46039f"
            ],
            [
             0.2222222222222222,
             "#7201a8"
            ],
            [
             0.3333333333333333,
             "#9c179e"
            ],
            [
             0.4444444444444444,
             "#bd3786"
            ],
            [
             0.5555555555555556,
             "#d8576b"
            ],
            [
             0.6666666666666666,
             "#ed7953"
            ],
            [
             0.7777777777777778,
             "#fb9f3a"
            ],
            [
             0.8888888888888888,
             "#fdca26"
            ],
            [
             1,
             "#f0f921"
            ]
           ],
           "sequentialminus": [
            [
             0,
             "#0d0887"
            ],
            [
             0.1111111111111111,
             "#46039f"
            ],
            [
             0.2222222222222222,
             "#7201a8"
            ],
            [
             0.3333333333333333,
             "#9c179e"
            ],
            [
             0.4444444444444444,
             "#bd3786"
            ],
            [
             0.5555555555555556,
             "#d8576b"
            ],
            [
             0.6666666666666666,
             "#ed7953"
            ],
            [
             0.7777777777777778,
             "#fb9f3a"
            ],
            [
             0.8888888888888888,
             "#fdca26"
            ],
            [
             1,
             "#f0f921"
            ]
           ]
          },
          "colorway": [
           "#636efa",
           "#EF553B",
           "#00cc96",
           "#ab63fa",
           "#FFA15A",
           "#19d3f3",
           "#FF6692",
           "#B6E880",
           "#FF97FF",
           "#FECB52"
          ],
          "font": {
           "color": "#2a3f5f"
          },
          "geo": {
           "bgcolor": "white",
           "lakecolor": "white",
           "landcolor": "#E5ECF6",
           "showlakes": true,
           "showland": true,
           "subunitcolor": "white"
          },
          "hoverlabel": {
           "align": "left"
          },
          "hovermode": "closest",
          "mapbox": {
           "style": "light"
          },
          "paper_bgcolor": "white",
          "plot_bgcolor": "#E5ECF6",
          "polar": {
           "angularaxis": {
            "gridcolor": "white",
            "linecolor": "white",
            "ticks": ""
           },
           "bgcolor": "#E5ECF6",
           "radialaxis": {
            "gridcolor": "white",
            "linecolor": "white",
            "ticks": ""
           }
          },
          "scene": {
           "xaxis": {
            "backgroundcolor": "#E5ECF6",
            "gridcolor": "white",
            "gridwidth": 2,
            "linecolor": "white",
            "showbackground": true,
            "ticks": "",
            "zerolinecolor": "white"
           },
           "yaxis": {
            "backgroundcolor": "#E5ECF6",
            "gridcolor": "white",
            "gridwidth": 2,
            "linecolor": "white",
            "showbackground": true,
            "ticks": "",
            "zerolinecolor": "white"
           },
           "zaxis": {
            "backgroundcolor": "#E5ECF6",
            "gridcolor": "white",
            "gridwidth": 2,
            "linecolor": "white",
            "showbackground": true,
            "ticks": "",
            "zerolinecolor": "white"
           }
          },
          "shapedefaults": {
           "line": {
            "color": "#2a3f5f"
           }
          },
          "ternary": {
           "aaxis": {
            "gridcolor": "white",
            "linecolor": "white",
            "ticks": ""
           },
           "baxis": {
            "gridcolor": "white",
            "linecolor": "white",
            "ticks": ""
           },
           "bgcolor": "#E5ECF6",
           "caxis": {
            "gridcolor": "white",
            "linecolor": "white",
            "ticks": ""
           }
          },
          "title": {
           "x": 0.05
          },
          "xaxis": {
           "automargin": true,
           "gridcolor": "white",
           "linecolor": "white",
           "ticks": "",
           "title": {
            "standoff": 15
           },
           "zerolinecolor": "white",
           "zerolinewidth": 2
          },
          "yaxis": {
           "automargin": true,
           "gridcolor": "white",
           "linecolor": "white",
           "ticks": "",
           "title": {
            "standoff": 15
           },
           "zerolinecolor": "white",
           "zerolinewidth": 2
          }
         }
        },
        "title": {
         "text": "Attention Mosaics For Induction on RRTs for chronos-t5-mini"
        },
        "width": 1000,
        "xaxis": {
         "anchor": "y",
         "domain": [
          0,
          0.45
         ],
         "dtick": 1,
         "showticklabels": true,
         "tick0": 0,
         "tickmode": "linear",
         "title": {
          "font": {
           "size": 18
          },
          "text": "Head"
         }
        },
        "xaxis2": {
         "anchor": "y2",
         "domain": [
          0.55,
          1
         ],
         "dtick": 1,
         "showticklabels": true,
         "tick0": 0,
         "tickmode": "linear",
         "title": {
          "font": {
           "size": 18
          },
          "text": "Head"
         }
        },
        "yaxis": {
         "anchor": "x",
         "domain": [
          0,
          1
         ],
         "dtick": 1,
         "showticklabels": true,
         "tick0": 0,
         "tickmode": "linear",
         "title": {
          "font": {
           "size": 18
          },
          "text": "Layer"
         }
        },
        "yaxis2": {
         "anchor": "x2",
         "domain": [
          0,
          1
         ],
         "dtick": 1,
         "matches": "y",
         "showticklabels": true,
         "tick0": 0,
         "tickmode": "linear",
         "title": {
          "font": {
           "size": 18
          },
          "text": "Layer"
         }
        }
       }
      }
     },
     "metadata": {},
     "output_type": "display_data"
    },
    {
     "name": "stdout",
     "output_type": "stream",
     "text": [
      "Saved figure to plots/chronos-t5-mini.png\n",
      "Processing amazon/chronos-t5-small...\n"
     ]
    },
    {
     "data": {
      "application/vnd.plotly.v1+json": {
       "config": {
        "plotlyServerURL": "https://plot.ly"
       },
       "data": [
        {
         "coloraxis": "coloraxis",
         "type": "heatmap",
         "xaxis": "x",
         "yaxis": "y",
         "z": [
          [
           0.0830078125,
           0.04443359375,
           0.04248046875,
           0.154296875,
           0.03955078125,
           0.234375,
           0.033203125,
           0.03759765625
          ],
          [
           0.0380859375,
           0.0361328125,
           0.041748046875,
           0.0003986358642578125,
           0.0361328125,
           0.045166015625,
           0.234375,
           0.03369140625
          ],
          [
           0.240234375,
           0.04736328125,
           0.03857421875,
           0.038330078125,
           0.03515625,
           0.044921875,
           0.039306640625,
           0.044921875
          ],
          [
           0.03857421875,
           0.037109375,
           0.03759765625,
           0.036376953125,
           0.044677734375,
           0.039306640625,
           0.0302734375,
           0.033447265625
          ],
          [
           0.03955078125,
           0.035400390625,
           0.044921875,
           0.032958984375,
           0.038330078125,
           0.03662109375,
           0.040771484375,
           0.03857421875
          ],
          [
           0.035888671875,
           0.03564453125,
           0.032958984375,
           0.0291748046875,
           0.035888671875,
           0.040771484375,
           0.0341796875,
           0.028076171875
          ]
         ],
         "zmax": 1,
         "zmin": 0
        },
        {
         "coloraxis": "coloraxis",
         "type": "heatmap",
         "xaxis": "x2",
         "yaxis": "y2",
         "z": [
          [
           0.0341796875,
           0.0390625,
           0.041015625,
           0.02392578125,
           0.027587890625,
           0.02099609375,
           0.036865234375,
           0.03857421875
          ],
          [
           0.040283203125,
           0.036865234375,
           0.05908203125,
           0.0003223419189453125,
           0.037841796875,
           0.04150390625,
           0.0245361328125,
           0.12451171875
          ],
          [
           0.035400390625,
           0.045654296875,
           0.047119140625,
           0.039306640625,
           0.041748046875,
           0.146484375,
           0.06103515625,
           0.03466796875
          ],
          [
           0.125,
           0.043212890625,
           0.037353515625,
           0.046630859375,
           0.04443359375,
           0.08056640625,
           0.048828125,
           0.04248046875
          ],
          [
           0.036865234375,
           0.055908203125,
           0.0927734375,
           0.07080078125,
           0.11376953125,
           0.09228515625,
           0.07373046875,
           0.055908203125
          ],
          [
           0.0703125,
           0.0439453125,
           0.037841796875,
           0.08544921875,
           0.048828125,
           0.039306640625,
           0.043212890625,
           0.03271484375
          ]
         ],
         "zmax": 1,
         "zmin": 0
        }
       ],
       "layout": {
        "annotations": [
         {
          "font": {
           "size": 16
          },
          "showarrow": false,
          "text": "Current token",
          "x": 0.225,
          "xanchor": "center",
          "xref": "paper",
          "y": 1,
          "yanchor": "bottom",
          "yref": "paper"
         },
         {
          "font": {
           "size": 16
          },
          "showarrow": false,
          "text": "Token to right of current",
          "x": 0.775,
          "xanchor": "center",
          "xref": "paper",
          "y": 1,
          "yanchor": "bottom",
          "yref": "paper"
         }
        ],
        "coloraxis": {
         "cmax": 1,
         "cmin": 0,
         "colorbar": {
          "title": {
           "text": "Attention Score"
          }
         }
        },
        "height": 500,
        "template": {
         "data": {
          "bar": [
           {
            "error_x": {
             "color": "#2a3f5f"
            },
            "error_y": {
             "color": "#2a3f5f"
            },
            "marker": {
             "line": {
              "color": "#E5ECF6",
              "width": 0.5
             },
             "pattern": {
              "fillmode": "overlay",
              "size": 10,
              "solidity": 0.2
             }
            },
            "type": "bar"
           }
          ],
          "barpolar": [
           {
            "marker": {
             "line": {
              "color": "#E5ECF6",
              "width": 0.5
             },
             "pattern": {
              "fillmode": "overlay",
              "size": 10,
              "solidity": 0.2
             }
            },
            "type": "barpolar"
           }
          ],
          "carpet": [
           {
            "aaxis": {
             "endlinecolor": "#2a3f5f",
             "gridcolor": "white",
             "linecolor": "white",
             "minorgridcolor": "white",
             "startlinecolor": "#2a3f5f"
            },
            "baxis": {
             "endlinecolor": "#2a3f5f",
             "gridcolor": "white",
             "linecolor": "white",
             "minorgridcolor": "white",
             "startlinecolor": "#2a3f5f"
            },
            "type": "carpet"
           }
          ],
          "choropleth": [
           {
            "colorbar": {
             "outlinewidth": 0,
             "ticks": ""
            },
            "type": "choropleth"
           }
          ],
          "contour": [
           {
            "colorbar": {
             "outlinewidth": 0,
             "ticks": ""
            },
            "colorscale": [
             [
              0,
              "#0d0887"
             ],
             [
              0.1111111111111111,
              "#46039f"
             ],
             [
              0.2222222222222222,
              "#7201a8"
             ],
             [
              0.3333333333333333,
              "#9c179e"
             ],
             [
              0.4444444444444444,
              "#bd3786"
             ],
             [
              0.5555555555555556,
              "#d8576b"
             ],
             [
              0.6666666666666666,
              "#ed7953"
             ],
             [
              0.7777777777777778,
              "#fb9f3a"
             ],
             [
              0.8888888888888888,
              "#fdca26"
             ],
             [
              1,
              "#f0f921"
             ]
            ],
            "type": "contour"
           }
          ],
          "contourcarpet": [
           {
            "colorbar": {
             "outlinewidth": 0,
             "ticks": ""
            },
            "type": "contourcarpet"
           }
          ],
          "heatmap": [
           {
            "colorbar": {
             "outlinewidth": 0,
             "ticks": ""
            },
            "colorscale": [
             [
              0,
              "#0d0887"
             ],
             [
              0.1111111111111111,
              "#46039f"
             ],
             [
              0.2222222222222222,
              "#7201a8"
             ],
             [
              0.3333333333333333,
              "#9c179e"
             ],
             [
              0.4444444444444444,
              "#bd3786"
             ],
             [
              0.5555555555555556,
              "#d8576b"
             ],
             [
              0.6666666666666666,
              "#ed7953"
             ],
             [
              0.7777777777777778,
              "#fb9f3a"
             ],
             [
              0.8888888888888888,
              "#fdca26"
             ],
             [
              1,
              "#f0f921"
             ]
            ],
            "type": "heatmap"
           }
          ],
          "histogram": [
           {
            "marker": {
             "pattern": {
              "fillmode": "overlay",
              "size": 10,
              "solidity": 0.2
             }
            },
            "type": "histogram"
           }
          ],
          "histogram2d": [
           {
            "colorbar": {
             "outlinewidth": 0,
             "ticks": ""
            },
            "colorscale": [
             [
              0,
              "#0d0887"
             ],
             [
              0.1111111111111111,
              "#46039f"
             ],
             [
              0.2222222222222222,
              "#7201a8"
             ],
             [
              0.3333333333333333,
              "#9c179e"
             ],
             [
              0.4444444444444444,
              "#bd3786"
             ],
             [
              0.5555555555555556,
              "#d8576b"
             ],
             [
              0.6666666666666666,
              "#ed7953"
             ],
             [
              0.7777777777777778,
              "#fb9f3a"
             ],
             [
              0.8888888888888888,
              "#fdca26"
             ],
             [
              1,
              "#f0f921"
             ]
            ],
            "type": "histogram2d"
           }
          ],
          "histogram2dcontour": [
           {
            "colorbar": {
             "outlinewidth": 0,
             "ticks": ""
            },
            "colorscale": [
             [
              0,
              "#0d0887"
             ],
             [
              0.1111111111111111,
              "#46039f"
             ],
             [
              0.2222222222222222,
              "#7201a8"
             ],
             [
              0.3333333333333333,
              "#9c179e"
             ],
             [
              0.4444444444444444,
              "#bd3786"
             ],
             [
              0.5555555555555556,
              "#d8576b"
             ],
             [
              0.6666666666666666,
              "#ed7953"
             ],
             [
              0.7777777777777778,
              "#fb9f3a"
             ],
             [
              0.8888888888888888,
              "#fdca26"
             ],
             [
              1,
              "#f0f921"
             ]
            ],
            "type": "histogram2dcontour"
           }
          ],
          "mesh3d": [
           {
            "colorbar": {
             "outlinewidth": 0,
             "ticks": ""
            },
            "type": "mesh3d"
           }
          ],
          "parcoords": [
           {
            "line": {
             "colorbar": {
              "outlinewidth": 0,
              "ticks": ""
             }
            },
            "type": "parcoords"
           }
          ],
          "pie": [
           {
            "automargin": true,
            "type": "pie"
           }
          ],
          "scatter": [
           {
            "fillpattern": {
             "fillmode": "overlay",
             "size": 10,
             "solidity": 0.2
            },
            "type": "scatter"
           }
          ],
          "scatter3d": [
           {
            "line": {
             "colorbar": {
              "outlinewidth": 0,
              "ticks": ""
             }
            },
            "marker": {
             "colorbar": {
              "outlinewidth": 0,
              "ticks": ""
             }
            },
            "type": "scatter3d"
           }
          ],
          "scattercarpet": [
           {
            "marker": {
             "colorbar": {
              "outlinewidth": 0,
              "ticks": ""
             }
            },
            "type": "scattercarpet"
           }
          ],
          "scattergeo": [
           {
            "marker": {
             "colorbar": {
              "outlinewidth": 0,
              "ticks": ""
             }
            },
            "type": "scattergeo"
           }
          ],
          "scattergl": [
           {
            "marker": {
             "colorbar": {
              "outlinewidth": 0,
              "ticks": ""
             }
            },
            "type": "scattergl"
           }
          ],
          "scattermap": [
           {
            "marker": {
             "colorbar": {
              "outlinewidth": 0,
              "ticks": ""
             }
            },
            "type": "scattermap"
           }
          ],
          "scattermapbox": [
           {
            "marker": {
             "colorbar": {
              "outlinewidth": 0,
              "ticks": ""
             }
            },
            "type": "scattermapbox"
           }
          ],
          "scatterpolar": [
           {
            "marker": {
             "colorbar": {
              "outlinewidth": 0,
              "ticks": ""
             }
            },
            "type": "scatterpolar"
           }
          ],
          "scatterpolargl": [
           {
            "marker": {
             "colorbar": {
              "outlinewidth": 0,
              "ticks": ""
             }
            },
            "type": "scatterpolargl"
           }
          ],
          "scatterternary": [
           {
            "marker": {
             "colorbar": {
              "outlinewidth": 0,
              "ticks": ""
             }
            },
            "type": "scatterternary"
           }
          ],
          "surface": [
           {
            "colorbar": {
             "outlinewidth": 0,
             "ticks": ""
            },
            "colorscale": [
             [
              0,
              "#0d0887"
             ],
             [
              0.1111111111111111,
              "#46039f"
             ],
             [
              0.2222222222222222,
              "#7201a8"
             ],
             [
              0.3333333333333333,
              "#9c179e"
             ],
             [
              0.4444444444444444,
              "#bd3786"
             ],
             [
              0.5555555555555556,
              "#d8576b"
             ],
             [
              0.6666666666666666,
              "#ed7953"
             ],
             [
              0.7777777777777778,
              "#fb9f3a"
             ],
             [
              0.8888888888888888,
              "#fdca26"
             ],
             [
              1,
              "#f0f921"
             ]
            ],
            "type": "surface"
           }
          ],
          "table": [
           {
            "cells": {
             "fill": {
              "color": "#EBF0F8"
             },
             "line": {
              "color": "white"
             }
            },
            "header": {
             "fill": {
              "color": "#C8D4E3"
             },
             "line": {
              "color": "white"
             }
            },
            "type": "table"
           }
          ]
         },
         "layout": {
          "annotationdefaults": {
           "arrowcolor": "#2a3f5f",
           "arrowhead": 0,
           "arrowwidth": 1
          },
          "autotypenumbers": "strict",
          "coloraxis": {
           "colorbar": {
            "outlinewidth": 0,
            "ticks": ""
           }
          },
          "colorscale": {
           "diverging": [
            [
             0,
             "#8e0152"
            ],
            [
             0.1,
             "#c51b7d"
            ],
            [
             0.2,
             "#de77ae"
            ],
            [
             0.3,
             "#f1b6da"
            ],
            [
             0.4,
             "#fde0ef"
            ],
            [
             0.5,
             "#f7f7f7"
            ],
            [
             0.6,
             "#e6f5d0"
            ],
            [
             0.7,
             "#b8e186"
            ],
            [
             0.8,
             "#7fbc41"
            ],
            [
             0.9,
             "#4d9221"
            ],
            [
             1,
             "#276419"
            ]
           ],
           "sequential": [
            [
             0,
             "#0d0887"
            ],
            [
             0.1111111111111111,
             "#46039f"
            ],
            [
             0.2222222222222222,
             "#7201a8"
            ],
            [
             0.3333333333333333,
             "#9c179e"
            ],
            [
             0.4444444444444444,
             "#bd3786"
            ],
            [
             0.5555555555555556,
             "#d8576b"
            ],
            [
             0.6666666666666666,
             "#ed7953"
            ],
            [
             0.7777777777777778,
             "#fb9f3a"
            ],
            [
             0.8888888888888888,
             "#fdca26"
            ],
            [
             1,
             "#f0f921"
            ]
           ],
           "sequentialminus": [
            [
             0,
             "#0d0887"
            ],
            [
             0.1111111111111111,
             "#46039f"
            ],
            [
             0.2222222222222222,
             "#7201a8"
            ],
            [
             0.3333333333333333,
             "#9c179e"
            ],
            [
             0.4444444444444444,
             "#bd3786"
            ],
            [
             0.5555555555555556,
             "#d8576b"
            ],
            [
             0.6666666666666666,
             "#ed7953"
            ],
            [
             0.7777777777777778,
             "#fb9f3a"
            ],
            [
             0.8888888888888888,
             "#fdca26"
            ],
            [
             1,
             "#f0f921"
            ]
           ]
          },
          "colorway": [
           "#636efa",
           "#EF553B",
           "#00cc96",
           "#ab63fa",
           "#FFA15A",
           "#19d3f3",
           "#FF6692",
           "#B6E880",
           "#FF97FF",
           "#FECB52"
          ],
          "font": {
           "color": "#2a3f5f"
          },
          "geo": {
           "bgcolor": "white",
           "lakecolor": "white",
           "landcolor": "#E5ECF6",
           "showlakes": true,
           "showland": true,
           "subunitcolor": "white"
          },
          "hoverlabel": {
           "align": "left"
          },
          "hovermode": "closest",
          "mapbox": {
           "style": "light"
          },
          "paper_bgcolor": "white",
          "plot_bgcolor": "#E5ECF6",
          "polar": {
           "angularaxis": {
            "gridcolor": "white",
            "linecolor": "white",
            "ticks": ""
           },
           "bgcolor": "#E5ECF6",
           "radialaxis": {
            "gridcolor": "white",
            "linecolor": "white",
            "ticks": ""
           }
          },
          "scene": {
           "xaxis": {
            "backgroundcolor": "#E5ECF6",
            "gridcolor": "white",
            "gridwidth": 2,
            "linecolor": "white",
            "showbackground": true,
            "ticks": "",
            "zerolinecolor": "white"
           },
           "yaxis": {
            "backgroundcolor": "#E5ECF6",
            "gridcolor": "white",
            "gridwidth": 2,
            "linecolor": "white",
            "showbackground": true,
            "ticks": "",
            "zerolinecolor": "white"
           },
           "zaxis": {
            "backgroundcolor": "#E5ECF6",
            "gridcolor": "white",
            "gridwidth": 2,
            "linecolor": "white",
            "showbackground": true,
            "ticks": "",
            "zerolinecolor": "white"
           }
          },
          "shapedefaults": {
           "line": {
            "color": "#2a3f5f"
           }
          },
          "ternary": {
           "aaxis": {
            "gridcolor": "white",
            "linecolor": "white",
            "ticks": ""
           },
           "baxis": {
            "gridcolor": "white",
            "linecolor": "white",
            "ticks": ""
           },
           "bgcolor": "#E5ECF6",
           "caxis": {
            "gridcolor": "white",
            "linecolor": "white",
            "ticks": ""
           }
          },
          "title": {
           "x": 0.05
          },
          "xaxis": {
           "automargin": true,
           "gridcolor": "white",
           "linecolor": "white",
           "ticks": "",
           "title": {
            "standoff": 15
           },
           "zerolinecolor": "white",
           "zerolinewidth": 2
          },
          "yaxis": {
           "automargin": true,
           "gridcolor": "white",
           "linecolor": "white",
           "ticks": "",
           "title": {
            "standoff": 15
           },
           "zerolinecolor": "white",
           "zerolinewidth": 2
          }
         }
        },
        "title": {
         "text": "Attention Mosaics For Induction on RRTs for chronos-t5-small"
        },
        "width": 1000,
        "xaxis": {
         "anchor": "y",
         "domain": [
          0,
          0.45
         ],
         "dtick": 1,
         "showticklabels": true,
         "tick0": 0,
         "tickmode": "linear",
         "title": {
          "font": {
           "size": 18
          },
          "text": "Head"
         }
        },
        "xaxis2": {
         "anchor": "y2",
         "domain": [
          0.55,
          1
         ],
         "dtick": 1,
         "showticklabels": true,
         "tick0": 0,
         "tickmode": "linear",
         "title": {
          "font": {
           "size": 18
          },
          "text": "Head"
         }
        },
        "yaxis": {
         "anchor": "x",
         "domain": [
          0,
          1
         ],
         "dtick": 1,
         "showticklabels": true,
         "tick0": 0,
         "tickmode": "linear",
         "title": {
          "font": {
           "size": 18
          },
          "text": "Layer"
         }
        },
        "yaxis2": {
         "anchor": "x2",
         "domain": [
          0,
          1
         ],
         "dtick": 1,
         "matches": "y",
         "showticklabels": true,
         "tick0": 0,
         "tickmode": "linear",
         "title": {
          "font": {
           "size": 18
          },
          "text": "Layer"
         }
        }
       }
      }
     },
     "metadata": {},
     "output_type": "display_data"
    },
    {
     "name": "stdout",
     "output_type": "stream",
     "text": [
      "Saved figure to plots/chronos-t5-small.png\n",
      "Processing amazon/chronos-t5-base...\n"
     ]
    },
    {
     "data": {
      "application/vnd.plotly.v1+json": {
       "config": {
        "plotlyServerURL": "https://plot.ly"
       },
       "data": [
        {
         "coloraxis": "coloraxis",
         "type": "heatmap",
         "xaxis": "x",
         "yaxis": "y",
         "z": [
          [
           0.08447265625,
           0.039306640625,
           0.234375,
           0.068359375,
           0.04052734375,
           0.0595703125,
           0.0400390625,
           0.1298828125,
           0.1376953125,
           0.341796875,
           0.0751953125,
           0.0277099609375
          ],
          [
           0.0654296875,
           0.0002994537353515625,
           0.380859375,
           0.0439453125,
           0.02099609375,
           0.044677734375,
           0.04296875,
           0.06884765625,
           1.9371509552001953e-7,
           0.051025390625,
           0.06298828125,
           0.10400390625
          ],
          [
           0.051513671875,
           0.044677734375,
           0.0927734375,
           0.00616455078125,
           0.0174560546875,
           0.03759765625,
           0.049072265625,
           0.61328125,
           0.03076171875,
           0.02294921875,
           0.0654296875,
           0.056884765625
          ],
          [
           0.109375,
           0.0174560546875,
           0.0341796875,
           0.0322265625,
           0.046630859375,
           0.0419921875,
           0.038818359375,
           0.04345703125,
           0.0546875,
           0.6484375,
           0.0556640625,
           0.14453125
          ],
          [
           0.0517578125,
           0.0208740234375,
           0.016845703125,
           0.03564453125,
           0.04052734375,
           0.0233154296875,
           0.0272216796875,
           0.049072265625,
           0.03759765625,
           0.046142578125,
           0.038330078125,
           0.03466796875
          ],
          [
           0.02392578125,
           0.0194091796875,
           0.04443359375,
           0.00860595703125,
           0.036376953125,
           0.02587890625,
           0.029541015625,
           0.11279296875,
           0.038818359375,
           0.038330078125,
           0.042236328125,
           0.0269775390625
          ],
          [
           0.040283203125,
           0.035400390625,
           0.03173828125,
           0.040283203125,
           0.018310546875,
           0.04296875,
           0.0390625,
           0.03759765625,
           0.031005859375,
           0.01055908203125,
           0.03515625,
           0.036376953125
          ],
          [
           0.0286865234375,
           0.03564453125,
           0.033935546875,
           0.037841796875,
           0.046142578125,
           0.0184326171875,
           0.026611328125,
           0.038818359375,
           0.0390625,
           0.032958984375,
           0.028076171875,
           0.024658203125
          ],
          [
           0.01177978515625,
           0.0279541015625,
           0.031494140625,
           0.024169921875,
           0.034423828125,
           0.041748046875,
           0.045166015625,
           0.031494140625,
           0.0205078125,
           0.02734375,
           0.0279541015625,
           0.0205078125
          ],
          [
           0.032470703125,
           0.024169921875,
           0.03125,
           0.025390625,
           0.03173828125,
           0.0341796875,
           0.029541015625,
           0.03515625,
           0.0303955078125,
           0.03125,
           0.03515625,
           0.03515625
          ],
          [
           0.038818359375,
           0.036376953125,
           0.045654296875,
           0.031982421875,
           0.0361328125,
           0.0263671875,
           0.035888671875,
           0.029296875,
           0.03857421875,
           0.0299072265625,
           0.04248046875,
           0.042236328125
          ],
          [
           0.03662109375,
           0.0263671875,
           0.038818359375,
           0.0260009765625,
           0.03662109375,
           0.03173828125,
           0.0299072265625,
           0.035888671875,
           0.039306640625,
           0.02978515625,
           0.035400390625,
           0.03466796875
          ]
         ],
         "zmax": 1,
         "zmin": 0
        },
        {
         "coloraxis": "coloraxis",
         "type": "heatmap",
         "xaxis": "x2",
         "yaxis": "y2",
         "z": [
          [
           0.0301513671875,
           0.034912109375,
           0.019287109375,
           0.009521484375,
           0.041015625,
           0.027099609375,
           0.0380859375,
           0.0263671875,
           0.0230712890625,
           0.01226806640625,
           0.03125,
           0.029296875
          ],
          [
           0.05908203125,
           0.0003871917724609375,
           0.015869140625,
           0.03662109375,
           0.0247802734375,
           0.0299072265625,
           0.048095703125,
           0.0419921875,
           3.110617399215698e-7,
           0.04052734375,
           0.0361328125,
           0.037353515625
          ],
          [
           0.044189453125,
           0.038818359375,
           0.03564453125,
           0.009033203125,
           0.0279541015625,
           0.037353515625,
           0.04248046875,
           0.015869140625,
           0.038818359375,
           0.0262451171875,
           0.04345703125,
           0.03662109375
          ],
          [
           0.126953125,
           0.058349609375,
           0.259765625,
           0.216796875,
           0.173828125,
           0.462890625,
           0.443359375,
           0.038330078125,
           0.03515625,
           0.01068115234375,
           0.298828125,
           0.08154296875
          ],
          [
           0.039306640625,
           0.55859375,
           0.0185546875,
           0.0311279296875,
           0.06103515625,
           0.259765625,
           0.04443359375,
           0.040771484375,
           0.275390625,
           0.05859375,
           0.03466796875,
           0.039306640625
          ],
          [
           0.43359375,
           0.1904296875,
           0.036376953125,
           0.2255859375,
           0.07470703125,
           0.3125,
           0.447265625,
           0.04052734375,
           0.032958984375,
           0.056396484375,
           0.04248046875,
           0.318359375
          ],
          [
           0.041748046875,
           0.041748046875,
           0.041015625,
           0.04443359375,
           0.306640625,
           0.0693359375,
           0.037841796875,
           0.109375,
           0.035400390625,
           0.034423828125,
           0.043212890625,
           0.078125
          ],
          [
           0.2470703125,
           0.049560546875,
           0.15234375,
           0.04052734375,
           0.044921875,
           0.12890625,
           0.12451171875,
           0.04638671875,
           0.0498046875,
           0.05224609375,
           0.044677734375,
           0.453125
          ],
          [
           0.049560546875,
           0.1083984375,
           0.35546875,
           0.05712890625,
           0.05029296875,
           0.0654296875,
           0.0361328125,
           0.390625,
           0.326171875,
           0.4296875,
           0.42578125,
           0.271484375
          ],
          [
           0.05224609375,
           0.060302734375,
           0.1181640625,
           0.056640625,
           0.0517578125,
           0.038818359375,
           0.03515625,
           0.10888671875,
           0.1572265625,
           0.1572265625,
           0.2158203125,
           0.169921875
          ],
          [
           0.05419921875,
           0.043701171875,
           0.031494140625,
           0.02490234375,
           0.02978515625,
           0.0322265625,
           0.04248046875,
           0.03271484375,
           0.038330078125,
           0.034912109375,
           0.03125,
           0.0419921875
          ],
          [
           0.03125,
           0.045654296875,
           0.034912109375,
           0.04052734375,
           0.03369140625,
           0.035400390625,
           0.03271484375,
           0.0283203125,
           0.042724609375,
           0.03662109375,
           0.040283203125,
           0.0238037109375
          ]
         ],
         "zmax": 1,
         "zmin": 0
        }
       ],
       "layout": {
        "annotations": [
         {
          "font": {
           "size": 16
          },
          "showarrow": false,
          "text": "Current token",
          "x": 0.225,
          "xanchor": "center",
          "xref": "paper",
          "y": 1,
          "yanchor": "bottom",
          "yref": "paper"
         },
         {
          "font": {
           "size": 16
          },
          "showarrow": false,
          "text": "Token to right of current",
          "x": 0.775,
          "xanchor": "center",
          "xref": "paper",
          "y": 1,
          "yanchor": "bottom",
          "yref": "paper"
         }
        ],
        "coloraxis": {
         "cmax": 1,
         "cmin": 0,
         "colorbar": {
          "title": {
           "text": "Attention Score"
          }
         }
        },
        "height": 500,
        "template": {
         "data": {
          "bar": [
           {
            "error_x": {
             "color": "#2a3f5f"
            },
            "error_y": {
             "color": "#2a3f5f"
            },
            "marker": {
             "line": {
              "color": "#E5ECF6",
              "width": 0.5
             },
             "pattern": {
              "fillmode": "overlay",
              "size": 10,
              "solidity": 0.2
             }
            },
            "type": "bar"
           }
          ],
          "barpolar": [
           {
            "marker": {
             "line": {
              "color": "#E5ECF6",
              "width": 0.5
             },
             "pattern": {
              "fillmode": "overlay",
              "size": 10,
              "solidity": 0.2
             }
            },
            "type": "barpolar"
           }
          ],
          "carpet": [
           {
            "aaxis": {
             "endlinecolor": "#2a3f5f",
             "gridcolor": "white",
             "linecolor": "white",
             "minorgridcolor": "white",
             "startlinecolor": "#2a3f5f"
            },
            "baxis": {
             "endlinecolor": "#2a3f5f",
             "gridcolor": "white",
             "linecolor": "white",
             "minorgridcolor": "white",
             "startlinecolor": "#2a3f5f"
            },
            "type": "carpet"
           }
          ],
          "choropleth": [
           {
            "colorbar": {
             "outlinewidth": 0,
             "ticks": ""
            },
            "type": "choropleth"
           }
          ],
          "contour": [
           {
            "colorbar": {
             "outlinewidth": 0,
             "ticks": ""
            },
            "colorscale": [
             [
              0,
              "#0d0887"
             ],
             [
              0.1111111111111111,
              "#46039f"
             ],
             [
              0.2222222222222222,
              "#7201a8"
             ],
             [
              0.3333333333333333,
              "#9c179e"
             ],
             [
              0.4444444444444444,
              "#bd3786"
             ],
             [
              0.5555555555555556,
              "#d8576b"
             ],
             [
              0.6666666666666666,
              "#ed7953"
             ],
             [
              0.7777777777777778,
              "#fb9f3a"
             ],
             [
              0.8888888888888888,
              "#fdca26"
             ],
             [
              1,
              "#f0f921"
             ]
            ],
            "type": "contour"
           }
          ],
          "contourcarpet": [
           {
            "colorbar": {
             "outlinewidth": 0,
             "ticks": ""
            },
            "type": "contourcarpet"
           }
          ],
          "heatmap": [
           {
            "colorbar": {
             "outlinewidth": 0,
             "ticks": ""
            },
            "colorscale": [
             [
              0,
              "#0d0887"
             ],
             [
              0.1111111111111111,
              "#46039f"
             ],
             [
              0.2222222222222222,
              "#7201a8"
             ],
             [
              0.3333333333333333,
              "#9c179e"
             ],
             [
              0.4444444444444444,
              "#bd3786"
             ],
             [
              0.5555555555555556,
              "#d8576b"
             ],
             [
              0.6666666666666666,
              "#ed7953"
             ],
             [
              0.7777777777777778,
              "#fb9f3a"
             ],
             [
              0.8888888888888888,
              "#fdca26"
             ],
             [
              1,
              "#f0f921"
             ]
            ],
            "type": "heatmap"
           }
          ],
          "histogram": [
           {
            "marker": {
             "pattern": {
              "fillmode": "overlay",
              "size": 10,
              "solidity": 0.2
             }
            },
            "type": "histogram"
           }
          ],
          "histogram2d": [
           {
            "colorbar": {
             "outlinewidth": 0,
             "ticks": ""
            },
            "colorscale": [
             [
              0,
              "#0d0887"
             ],
             [
              0.1111111111111111,
              "#46039f"
             ],
             [
              0.2222222222222222,
              "#7201a8"
             ],
             [
              0.3333333333333333,
              "#9c179e"
             ],
             [
              0.4444444444444444,
              "#bd3786"
             ],
             [
              0.5555555555555556,
              "#d8576b"
             ],
             [
              0.6666666666666666,
              "#ed7953"
             ],
             [
              0.7777777777777778,
              "#fb9f3a"
             ],
             [
              0.8888888888888888,
              "#fdca26"
             ],
             [
              1,
              "#f0f921"
             ]
            ],
            "type": "histogram2d"
           }
          ],
          "histogram2dcontour": [
           {
            "colorbar": {
             "outlinewidth": 0,
             "ticks": ""
            },
            "colorscale": [
             [
              0,
              "#0d0887"
             ],
             [
              0.1111111111111111,
              "#46039f"
             ],
             [
              0.2222222222222222,
              "#7201a8"
             ],
             [
              0.3333333333333333,
              "#9c179e"
             ],
             [
              0.4444444444444444,
              "#bd3786"
             ],
             [
              0.5555555555555556,
              "#d8576b"
             ],
             [
              0.6666666666666666,
              "#ed7953"
             ],
             [
              0.7777777777777778,
              "#fb9f3a"
             ],
             [
              0.8888888888888888,
              "#fdca26"
             ],
             [
              1,
              "#f0f921"
             ]
            ],
            "type": "histogram2dcontour"
           }
          ],
          "mesh3d": [
           {
            "colorbar": {
             "outlinewidth": 0,
             "ticks": ""
            },
            "type": "mesh3d"
           }
          ],
          "parcoords": [
           {
            "line": {
             "colorbar": {
              "outlinewidth": 0,
              "ticks": ""
             }
            },
            "type": "parcoords"
           }
          ],
          "pie": [
           {
            "automargin": true,
            "type": "pie"
           }
          ],
          "scatter": [
           {
            "fillpattern": {
             "fillmode": "overlay",
             "size": 10,
             "solidity": 0.2
            },
            "type": "scatter"
           }
          ],
          "scatter3d": [
           {
            "line": {
             "colorbar": {
              "outlinewidth": 0,
              "ticks": ""
             }
            },
            "marker": {
             "colorbar": {
              "outlinewidth": 0,
              "ticks": ""
             }
            },
            "type": "scatter3d"
           }
          ],
          "scattercarpet": [
           {
            "marker": {
             "colorbar": {
              "outlinewidth": 0,
              "ticks": ""
             }
            },
            "type": "scattercarpet"
           }
          ],
          "scattergeo": [
           {
            "marker": {
             "colorbar": {
              "outlinewidth": 0,
              "ticks": ""
             }
            },
            "type": "scattergeo"
           }
          ],
          "scattergl": [
           {
            "marker": {
             "colorbar": {
              "outlinewidth": 0,
              "ticks": ""
             }
            },
            "type": "scattergl"
           }
          ],
          "scattermap": [
           {
            "marker": {
             "colorbar": {
              "outlinewidth": 0,
              "ticks": ""
             }
            },
            "type": "scattermap"
           }
          ],
          "scattermapbox": [
           {
            "marker": {
             "colorbar": {
              "outlinewidth": 0,
              "ticks": ""
             }
            },
            "type": "scattermapbox"
           }
          ],
          "scatterpolar": [
           {
            "marker": {
             "colorbar": {
              "outlinewidth": 0,
              "ticks": ""
             }
            },
            "type": "scatterpolar"
           }
          ],
          "scatterpolargl": [
           {
            "marker": {
             "colorbar": {
              "outlinewidth": 0,
              "ticks": ""
             }
            },
            "type": "scatterpolargl"
           }
          ],
          "scatterternary": [
           {
            "marker": {
             "colorbar": {
              "outlinewidth": 0,
              "ticks": ""
             }
            },
            "type": "scatterternary"
           }
          ],
          "surface": [
           {
            "colorbar": {
             "outlinewidth": 0,
             "ticks": ""
            },
            "colorscale": [
             [
              0,
              "#0d0887"
             ],
             [
              0.1111111111111111,
              "#46039f"
             ],
             [
              0.2222222222222222,
              "#7201a8"
             ],
             [
              0.3333333333333333,
              "#9c179e"
             ],
             [
              0.4444444444444444,
              "#bd3786"
             ],
             [
              0.5555555555555556,
              "#d8576b"
             ],
             [
              0.6666666666666666,
              "#ed7953"
             ],
             [
              0.7777777777777778,
              "#fb9f3a"
             ],
             [
              0.8888888888888888,
              "#fdca26"
             ],
             [
              1,
              "#f0f921"
             ]
            ],
            "type": "surface"
           }
          ],
          "table": [
           {
            "cells": {
             "fill": {
              "color": "#EBF0F8"
             },
             "line": {
              "color": "white"
             }
            },
            "header": {
             "fill": {
              "color": "#C8D4E3"
             },
             "line": {
              "color": "white"
             }
            },
            "type": "table"
           }
          ]
         },
         "layout": {
          "annotationdefaults": {
           "arrowcolor": "#2a3f5f",
           "arrowhead": 0,
           "arrowwidth": 1
          },
          "autotypenumbers": "strict",
          "coloraxis": {
           "colorbar": {
            "outlinewidth": 0,
            "ticks": ""
           }
          },
          "colorscale": {
           "diverging": [
            [
             0,
             "#8e0152"
            ],
            [
             0.1,
             "#c51b7d"
            ],
            [
             0.2,
             "#de77ae"
            ],
            [
             0.3,
             "#f1b6da"
            ],
            [
             0.4,
             "#fde0ef"
            ],
            [
             0.5,
             "#f7f7f7"
            ],
            [
             0.6,
             "#e6f5d0"
            ],
            [
             0.7,
             "#b8e186"
            ],
            [
             0.8,
             "#7fbc41"
            ],
            [
             0.9,
             "#4d9221"
            ],
            [
             1,
             "#276419"
            ]
           ],
           "sequential": [
            [
             0,
             "#0d0887"
            ],
            [
             0.1111111111111111,
             "#46039f"
            ],
            [
             0.2222222222222222,
             "#7201a8"
            ],
            [
             0.3333333333333333,
             "#9c179e"
            ],
            [
             0.4444444444444444,
             "#bd3786"
            ],
            [
             0.5555555555555556,
             "#d8576b"
            ],
            [
             0.6666666666666666,
             "#ed7953"
            ],
            [
             0.7777777777777778,
             "#fb9f3a"
            ],
            [
             0.8888888888888888,
             "#fdca26"
            ],
            [
             1,
             "#f0f921"
            ]
           ],
           "sequentialminus": [
            [
             0,
             "#0d0887"
            ],
            [
             0.1111111111111111,
             "#46039f"
            ],
            [
             0.2222222222222222,
             "#7201a8"
            ],
            [
             0.3333333333333333,
             "#9c179e"
            ],
            [
             0.4444444444444444,
             "#bd3786"
            ],
            [
             0.5555555555555556,
             "#d8576b"
            ],
            [
             0.6666666666666666,
             "#ed7953"
            ],
            [
             0.7777777777777778,
             "#fb9f3a"
            ],
            [
             0.8888888888888888,
             "#fdca26"
            ],
            [
             1,
             "#f0f921"
            ]
           ]
          },
          "colorway": [
           "#636efa",
           "#EF553B",
           "#00cc96",
           "#ab63fa",
           "#FFA15A",
           "#19d3f3",
           "#FF6692",
           "#B6E880",
           "#FF97FF",
           "#FECB52"
          ],
          "font": {
           "color": "#2a3f5f"
          },
          "geo": {
           "bgcolor": "white",
           "lakecolor": "white",
           "landcolor": "#E5ECF6",
           "showlakes": true,
           "showland": true,
           "subunitcolor": "white"
          },
          "hoverlabel": {
           "align": "left"
          },
          "hovermode": "closest",
          "mapbox": {
           "style": "light"
          },
          "paper_bgcolor": "white",
          "plot_bgcolor": "#E5ECF6",
          "polar": {
           "angularaxis": {
            "gridcolor": "white",
            "linecolor": "white",
            "ticks": ""
           },
           "bgcolor": "#E5ECF6",
           "radialaxis": {
            "gridcolor": "white",
            "linecolor": "white",
            "ticks": ""
           }
          },
          "scene": {
           "xaxis": {
            "backgroundcolor": "#E5ECF6",
            "gridcolor": "white",
            "gridwidth": 2,
            "linecolor": "white",
            "showbackground": true,
            "ticks": "",
            "zerolinecolor": "white"
           },
           "yaxis": {
            "backgroundcolor": "#E5ECF6",
            "gridcolor": "white",
            "gridwidth": 2,
            "linecolor": "white",
            "showbackground": true,
            "ticks": "",
            "zerolinecolor": "white"
           },
           "zaxis": {
            "backgroundcolor": "#E5ECF6",
            "gridcolor": "white",
            "gridwidth": 2,
            "linecolor": "white",
            "showbackground": true,
            "ticks": "",
            "zerolinecolor": "white"
           }
          },
          "shapedefaults": {
           "line": {
            "color": "#2a3f5f"
           }
          },
          "ternary": {
           "aaxis": {
            "gridcolor": "white",
            "linecolor": "white",
            "ticks": ""
           },
           "baxis": {
            "gridcolor": "white",
            "linecolor": "white",
            "ticks": ""
           },
           "bgcolor": "#E5ECF6",
           "caxis": {
            "gridcolor": "white",
            "linecolor": "white",
            "ticks": ""
           }
          },
          "title": {
           "x": 0.05
          },
          "xaxis": {
           "automargin": true,
           "gridcolor": "white",
           "linecolor": "white",
           "ticks": "",
           "title": {
            "standoff": 15
           },
           "zerolinecolor": "white",
           "zerolinewidth": 2
          },
          "yaxis": {
           "automargin": true,
           "gridcolor": "white",
           "linecolor": "white",
           "ticks": "",
           "title": {
            "standoff": 15
           },
           "zerolinecolor": "white",
           "zerolinewidth": 2
          }
         }
        },
        "title": {
         "text": "Attention Mosaics For Induction on RRTs for chronos-t5-base"
        },
        "width": 1000,
        "xaxis": {
         "anchor": "y",
         "domain": [
          0,
          0.45
         ],
         "dtick": 1,
         "showticklabels": true,
         "tick0": 0,
         "tickmode": "linear",
         "title": {
          "font": {
           "size": 18
          },
          "text": "Head"
         }
        },
        "xaxis2": {
         "anchor": "y2",
         "domain": [
          0.55,
          1
         ],
         "dtick": 1,
         "showticklabels": true,
         "tick0": 0,
         "tickmode": "linear",
         "title": {
          "font": {
           "size": 18
          },
          "text": "Head"
         }
        },
        "yaxis": {
         "anchor": "x",
         "domain": [
          0,
          1
         ],
         "dtick": 1,
         "showticklabels": true,
         "tick0": 0,
         "tickmode": "linear",
         "title": {
          "font": {
           "size": 18
          },
          "text": "Layer"
         }
        },
        "yaxis2": {
         "anchor": "x2",
         "domain": [
          0,
          1
         ],
         "dtick": 1,
         "matches": "y",
         "showticklabels": true,
         "tick0": 0,
         "tickmode": "linear",
         "title": {
          "font": {
           "size": 18
          },
          "text": "Layer"
         }
        }
       }
      }
     },
     "metadata": {},
     "output_type": "display_data"
    },
    {
     "name": "stdout",
     "output_type": "stream",
     "text": [
      "Saved figure to plots/chronos-t5-base.png\n",
      "Processing amazon/chronos-t5-large...\n"
     ]
    },
    {
     "data": {
      "application/vnd.plotly.v1+json": {
       "config": {
        "plotlyServerURL": "https://plot.ly"
       },
       "data": [
        {
         "coloraxis": "coloraxis",
         "type": "heatmap",
         "xaxis": "x",
         "yaxis": "y",
         "z": [
          [
           0.033935546875,
           0.0458984375,
           0.255859375,
           0.09375,
           0.037353515625,
           0.0262451171875,
           0.13671875,
           0.037841796875,
           0.04296875,
           0.036865234375,
           0.037353515625,
           0.064453125,
           0.0849609375,
           0.07861328125,
           0.033935546875,
           0.0272216796875
          ],
          [
           0.0001659393310546875,
           0.000522613525390625,
           0.0123291015625,
           0.058349609375,
           0.043701171875,
           0.03515625,
           0.04736328125,
           0.34765625,
           0.051513671875,
           0.049072265625,
           0.0537109375,
           0.220703125,
           0.3671875,
           0.049560546875,
           0.054443359375,
           0.0277099609375
          ],
          [
           0.04052734375,
           0.0252685546875,
           0.030029296875,
           0.060546875,
           0.048828125,
           0.02880859375,
           0.02490234375,
           0.08984375,
           0.1357421875,
           0.03759765625,
           0.041015625,
           0.038818359375,
           0.087890625,
           0.04736328125,
           0.06591796875,
           0.029052734375
          ],
          [
           0.03271484375,
           0.04931640625,
           0.04638671875,
           0.0281982421875,
           0.039794921875,
           0.07373046875,
           0.0380859375,
           0.044189453125,
           0.0291748046875,
           0.181640625,
           0.08349609375,
           0.039306640625,
           0.06396484375,
           0.021484375,
           0.486328125,
           0.045654296875
          ],
          [
           0.0308837890625,
           0.043212890625,
           0.41015625,
           0.390625,
           0.0458984375,
           0.03955078125,
           0.0478515625,
           0.0260009765625,
           0.030029296875,
           0.1171875,
           0.052490234375,
           0.03369140625,
           0.064453125,
           0.0361328125,
           0.048095703125,
           0.052734375
          ],
          [
           0.181640625,
           0.034423828125,
           0.033447265625,
           0.049072265625,
           0.357421875,
           0.0038604736328125,
           0.040283203125,
           0.0478515625,
           0.03955078125,
           0.042236328125,
           0.0245361328125,
           0.033935546875,
           0.04248046875,
           0.036376953125,
           0.0419921875,
           0.042236328125
          ],
          [
           0.045654296875,
           0.00390625,
           0.038818359375,
           0.0615234375,
           0.039306640625,
           0.04736328125,
           0.033935546875,
           0.038818359375,
           0.005767822265625,
           0.0322265625,
           0.0322265625,
           0.04345703125,
           0.044677734375,
           0.00115203857421875,
           0.0267333984375,
           0.046630859375
          ],
          [
           0.040283203125,
           0.412109375,
           0.049560546875,
           0.58984375,
           0.037109375,
           0.0283203125,
           0.044677734375,
           0.037353515625,
           0.037353515625,
           0.03369140625,
           0.03662109375,
           0.047607421875,
           0.02685546875,
           0.05859375,
           0.04833984375,
           0.03515625
          ],
          [
           0.040771484375,
           0.03271484375,
           0.038330078125,
           0.05078125,
           0.041259765625,
           0.1748046875,
           0.0439453125,
           0.03662109375,
           0.031005859375,
           0.0498046875,
           0.03759765625,
           0.04150390625,
           0.039794921875,
           0.0380859375,
           0.02685546875,
           0.06298828125
          ],
          [
           0.03857421875,
           0.03369140625,
           0.043701171875,
           0.033935546875,
           0.037109375,
           0.03466796875,
           0.0322265625,
           0.025146484375,
           0.055908203125,
           0.033447265625,
           0.0120849609375,
           0.0218505859375,
           0.049072265625,
           0.05859375,
           0.053955078125,
           0.038330078125
          ],
          [
           0.0306396484375,
           0.0400390625,
           0.0361328125,
           0.0302734375,
           0.021240234375,
           0.035400390625,
           0.031982421875,
           0.03564453125,
           0.03857421875,
           0.033935546875,
           0.0306396484375,
           0.038330078125,
           0.036865234375,
           0.03466796875,
           0.0303955078125,
           0.031982421875
          ],
          [
           0.040771484375,
           0.037353515625,
           0.042724609375,
           0.036376953125,
           0.0167236328125,
           0.0296630859375,
           0.036376953125,
           0.01519775390625,
           0.01300048828125,
           0.0390625,
           0.032470703125,
           0.03759765625,
           0.0361328125,
           0.04248046875,
           0.032470703125,
           0.03173828125
          ],
          [
           0.04052734375,
           0.02734375,
           0.03662109375,
           0.031005859375,
           0.035400390625,
           0.0308837890625,
           0.037841796875,
           0.03564453125,
           0.0390625,
           0.0595703125,
           0.043212890625,
           0.03271484375,
           0.0400390625,
           0.0286865234375,
           0.0306396484375,
           0.031982421875
          ],
          [
           0.043701171875,
           0.03466796875,
           0.0419921875,
           0.02978515625,
           0.037841796875,
           0.03466796875,
           0.0322265625,
           0.0341796875,
           0.036376953125,
           0.042236328125,
           0.039306640625,
           0.03564453125,
           0.02587890625,
           0.03515625,
           0.0301513671875,
           0.025390625
          ],
          [
           0.0303955078125,
           0.041015625,
           0.051025390625,
           0.0311279296875,
           0.033935546875,
           0.0291748046875,
           0.03857421875,
           0.036865234375,
           0.034423828125,
           0.034912109375,
           0.03857421875,
           0.033935546875,
           0.03955078125,
           0.03662109375,
           0.0322265625,
           0.034912109375
          ],
          [
           0.033935546875,
           0.0263671875,
           0.033935546875,
           0.0263671875,
           0.03466796875,
           0.040283203125,
           0.040771484375,
           0.033203125,
           0.029296875,
           0.034423828125,
           0.038330078125,
           0.032470703125,
           0.026123046875,
           0.04052734375,
           0.036865234375,
           0.044921875
          ],
          [
           0.033203125,
           0.04345703125,
           0.0301513671875,
           0.03857421875,
           0.0478515625,
           0.0308837890625,
           0.0289306640625,
           0.031494140625,
           0.035400390625,
           0.03662109375,
           0.04541015625,
           0.0279541015625,
           0.0361328125,
           0.033935546875,
           0.0380859375,
           0.0390625
          ],
          [
           0.031982421875,
           0.041748046875,
           0.03271484375,
           0.033447265625,
           0.031982421875,
           0.0361328125,
           0.028076171875,
           0.037841796875,
           0.038818359375,
           0.0311279296875,
           0.0272216796875,
           0.0274658203125,
           0.031982421875,
           0.04541015625,
           0.0419921875,
           0.04052734375
          ],
          [
           0.0361328125,
           0.0400390625,
           0.0230712890625,
           0.0263671875,
           0.0341796875,
           0.0341796875,
           0.036865234375,
           0.0390625,
           0.03125,
           0.0361328125,
           0.03515625,
           0.037353515625,
           0.0274658203125,
           0.0262451171875,
           0.04541015625,
           0.0262451171875
          ],
          [
           0.0322265625,
           0.036376953125,
           0.03173828125,
           0.048583984375,
           0.0380859375,
           0.03759765625,
           0.03173828125,
           0.02880859375,
           0.03564453125,
           0.033935546875,
           0.0289306640625,
           0.034912109375,
           0.03857421875,
           0.028076171875,
           0.033935546875,
           0.03662109375
          ],
          [
           0.03369140625,
           0.0289306640625,
           0.039794921875,
           0.0400390625,
           0.037353515625,
           0.03564453125,
           0.036376953125,
           0.033935546875,
           0.027099609375,
           0.0240478515625,
           0.03271484375,
           0.033203125,
           0.037841796875,
           0.044921875,
           0.038818359375,
           0.0225830078125
          ],
          [
           0.0439453125,
           0.031982421875,
           0.034423828125,
           0.0303955078125,
           0.03955078125,
           0.037841796875,
           0.0311279296875,
           0.0260009765625,
           0.0286865234375,
           0.03271484375,
           0.03515625,
           0.03515625,
           0.029296875,
           0.033447265625,
           0.0277099609375,
           0.0274658203125
          ],
          [
           0.045654296875,
           0.02685546875,
           0.0322265625,
           0.03466796875,
           0.04345703125,
           0.0269775390625,
           0.043212890625,
           0.0250244140625,
           0.029296875,
           0.037353515625,
           0.033203125,
           0.041015625,
           0.043701171875,
           0.0341796875,
           0.0322265625,
           0.03076171875
          ],
          [
           0.03125,
           0.0291748046875,
           0.054443359375,
           0.037353515625,
           0.0380859375,
           0.045654296875,
           0.0341796875,
           0.0311279296875,
           0.029296875,
           0.04638671875,
           0.03369140625,
           0.040283203125,
           0.02880859375,
           0.041015625,
           0.0361328125,
           0.03173828125
          ]
         ],
         "zmax": 1,
         "zmin": 0
        },
        {
         "coloraxis": "coloraxis",
         "type": "heatmap",
         "xaxis": "x2",
         "yaxis": "y2",
         "z": [
          [
           0.037841796875,
           0.0361328125,
           0.019287109375,
           0.030517578125,
           0.042724609375,
           0.0380859375,
           0.029541015625,
           0.040283203125,
           0.03857421875,
           0.03369140625,
           0.036376953125,
           0.032470703125,
           0.0296630859375,
           0.034423828125,
           0.03515625,
           0.037109375
          ],
          [
           0.00015735626220703125,
           0.000835418701171875,
           0.005401611328125,
           0.05029296875,
           0.037841796875,
           0.038818359375,
           0.039794921875,
           0.01275634765625,
           0.037841796875,
           0.039794921875,
           0.039306640625,
           0.01806640625,
           0.00885009765625,
           0.02099609375,
           0.0291748046875,
           0.04248046875
          ],
          [
           0.043212890625,
           0.03857421875,
           0.039794921875,
           0.032958984375,
           0.036865234375,
           0.043212890625,
           0.045166015625,
           0.0294189453125,
           0.046875,
           0.036865234375,
           0.040283203125,
           0.051025390625,
           0.035400390625,
           0.036865234375,
           0.039794921875,
           0.044189453125
          ],
          [
           0.0361328125,
           0.048583984375,
           0.0380859375,
           0.0291748046875,
           0.036376953125,
           0.051025390625,
           0.046142578125,
           0.041015625,
           0.040771484375,
           0.026123046875,
           0.08447265625,
           0.037353515625,
           0.043701171875,
           0.0272216796875,
           0.0211181640625,
           0.046630859375
          ],
          [
           0.044677734375,
           0.040283203125,
           0.031005859375,
           0.0235595703125,
           0.042236328125,
           0.031494140625,
           0.06884765625,
           0.0634765625,
           0.04443359375,
           0.034423828125,
           0.038330078125,
           0.00946044921875,
           0.08349609375,
           0.047607421875,
           0.0390625,
           0.051513671875
          ],
          [
           0.04150390625,
           0.034423828125,
           0.037109375,
           0.046875,
           0.035400390625,
           0.0033721923828125,
           0.057861328125,
           0.03515625,
           0.034912109375,
           0.0400390625,
           0.0439453125,
           0.039306640625,
           0.04638671875,
           0.04833984375,
           0.0458984375,
           0.0390625
          ],
          [
           0.034423828125,
           0.0050048828125,
           0.04248046875,
           0.040283203125,
           0.0390625,
           0.037841796875,
           0.04052734375,
           0.032958984375,
           0.00494384765625,
           0.03271484375,
           0.040283203125,
           0.0341796875,
           0.037841796875,
           0.000972747802734375,
           0.032958984375,
           0.031982421875
          ],
          [
           0.045166015625,
           0.0284423828125,
           0.04931640625,
           0.0244140625,
           0.05615234375,
           0.034912109375,
           0.11572265625,
           0.0380859375,
           0.0498046875,
           0.037353515625,
           0.04541015625,
           0.03564453125,
           0.043701171875,
           0.0400390625,
           0.037841796875,
           0.0361328125
          ],
          [
           0.037353515625,
           0.267578125,
           0.036376953125,
           0.04052734375,
           0.045166015625,
           0.030029296875,
           0.041015625,
           0.0517578125,
           0.04443359375,
           0.037841796875,
           0.0380859375,
           0.057861328125,
           0.03369140625,
           0.0517578125,
           0.03369140625,
           0.11181640625
          ],
          [
           0.040283203125,
           0.255859375,
           0.041259765625,
           0.0458984375,
           0.046875,
           0.0537109375,
           0.0380859375,
           0.03125,
           0.052734375,
           0.0390625,
           0.197265625,
           0.26953125,
           0.044677734375,
           0.037109375,
           0.041259765625,
           0.034912109375
          ],
          [
           0.043212890625,
           0.042236328125,
           0.042724609375,
           0.038818359375,
           0.047119140625,
           0.08740234375,
           0.03564453125,
           0.044677734375,
           0.036865234375,
           0.04248046875,
           0.29296875,
           0.04345703125,
           0.037841796875,
           0.0400390625,
           0.2470703125,
           0.04150390625
          ],
          [
           0.0732421875,
           0.28125,
           0.03662109375,
           0.2451171875,
           0.045166015625,
           0.1611328125,
           0.036376953125,
           0.232421875,
           0.0498046875,
           0.03857421875,
           0.30078125,
           0.13671875,
           0.040283203125,
           0.047607421875,
           0.0380859375,
           0.04248046875
          ],
          [
           0.0390625,
           0.181640625,
           0.046875,
           0.036865234375,
           0.048583984375,
           0.0286865234375,
           0.044921875,
           0.044189453125,
           0.0361328125,
           0.1005859375,
           0.039794921875,
           0.038818359375,
           0.0390625,
           0.045654296875,
           0.046630859375,
           0.04345703125
          ],
          [
           0.06005859375,
           0.037109375,
           0.25390625,
           0.037353515625,
           0.053955078125,
           0.0400390625,
           0.04443359375,
           0.2138671875,
           0.060302734375,
           0.043701171875,
           0.04248046875,
           0.2080078125,
           0.04638671875,
           0.044921875,
           0.047119140625,
           0.265625
          ],
          [
           0.03515625,
           0.09326171875,
           0.036865234375,
           0.154296875,
           0.050048828125,
           0.048095703125,
           0.036376953125,
           0.04833984375,
           0.041259765625,
           0.03759765625,
           0.0517578125,
           0.039306640625,
           0.047607421875,
           0.0458984375,
           0.042724609375,
           0.040283203125
          ],
          [
           0.039306640625,
           0.1201171875,
           0.039306640625,
           0.033935546875,
           0.15625,
           0.052978515625,
           0.03515625,
           0.03857421875,
           0.15625,
           0.267578125,
           0.05126953125,
           0.259765625,
           0.2197265625,
           0.2490234375,
           0.036865234375,
           0.1318359375
          ],
          [
           0.06884765625,
           0.0322265625,
           0.0341796875,
           0.044189453125,
           0.043701171875,
           0.060546875,
           0.11181640625,
           0.08740234375,
           0.294921875,
           0.0546875,
           0.03564453125,
           0.05322265625,
           0.035888671875,
           0.044189453125,
           0.05615234375,
           0.02880859375
          ],
          [
           0.04443359375,
           0.171875,
           0.041748046875,
           0.1875,
           0.091796875,
           0.06396484375,
           0.1474609375,
           0.036865234375,
           0.1171875,
           0.09423828125,
           0.09033203125,
           0.0301513671875,
           0.12451171875,
           0.032470703125,
           0.04150390625,
           0.0537109375
          ],
          [
           0.203125,
           0.041259765625,
           0.03759765625,
           0.1982421875,
           0.034912109375,
           0.08837890625,
           0.035888671875,
           0.0810546875,
           0.042236328125,
           0.044921875,
           0.043701171875,
           0.0615234375,
           0.048828125,
           0.1220703125,
           0.0361328125,
           0.12890625
          ],
          [
           0.0556640625,
           0.0380859375,
           0.04541015625,
           0.0556640625,
           0.05322265625,
           0.10888671875,
           0.054931640625,
           0.041259765625,
           0.0390625,
           0.032470703125,
           0.051513671875,
           0.04248046875,
           0.06494140625,
           0.07861328125,
           0.039306640625,
           0.040771484375
          ],
          [
           0.038818359375,
           0.12060546875,
           0.07666015625,
           0.059814453125,
           0.03173828125,
           0.041748046875,
           0.045654296875,
           0.03564453125,
           0.0264892578125,
           0.0361328125,
           0.047119140625,
           0.035888671875,
           0.047607421875,
           0.045654296875,
           0.0439453125,
           0.04052734375
          ],
          [
           0.048095703125,
           0.03173828125,
           0.038818359375,
           0.0380859375,
           0.060546875,
           0.038818359375,
           0.03515625,
           0.033447265625,
           0.02490234375,
           0.06494140625,
           0.0296630859375,
           0.06103515625,
           0.041015625,
           0.038818359375,
           0.03564453125,
           0.03369140625
          ],
          [
           0.037109375,
           0.03955078125,
           0.048095703125,
           0.03759765625,
           0.0419921875,
           0.0439453125,
           0.0458984375,
           0.039306640625,
           0.038818359375,
           0.037353515625,
           0.0272216796875,
           0.048828125,
           0.064453125,
           0.06298828125,
           0.043701171875,
           0.044189453125
          ],
          [
           0.03759765625,
           0.037353515625,
           0.033203125,
           0.044677734375,
           0.033935546875,
           0.044677734375,
           0.056884765625,
           0.0322265625,
           0.03466796875,
           0.031494140625,
           0.040771484375,
           0.0380859375,
           0.03466796875,
           0.033935546875,
           0.030029296875,
           0.045166015625
          ]
         ],
         "zmax": 1,
         "zmin": 0
        }
       ],
       "layout": {
        "annotations": [
         {
          "font": {
           "size": 16
          },
          "showarrow": false,
          "text": "Current token",
          "x": 0.225,
          "xanchor": "center",
          "xref": "paper",
          "y": 1,
          "yanchor": "bottom",
          "yref": "paper"
         },
         {
          "font": {
           "size": 16
          },
          "showarrow": false,
          "text": "Token to right of current",
          "x": 0.775,
          "xanchor": "center",
          "xref": "paper",
          "y": 1,
          "yanchor": "bottom",
          "yref": "paper"
         }
        ],
        "coloraxis": {
         "cmax": 1,
         "cmin": 0,
         "colorbar": {
          "title": {
           "text": "Attention Score"
          }
         }
        },
        "height": 500,
        "template": {
         "data": {
          "bar": [
           {
            "error_x": {
             "color": "#2a3f5f"
            },
            "error_y": {
             "color": "#2a3f5f"
            },
            "marker": {
             "line": {
              "color": "#E5ECF6",
              "width": 0.5
             },
             "pattern": {
              "fillmode": "overlay",
              "size": 10,
              "solidity": 0.2
             }
            },
            "type": "bar"
           }
          ],
          "barpolar": [
           {
            "marker": {
             "line": {
              "color": "#E5ECF6",
              "width": 0.5
             },
             "pattern": {
              "fillmode": "overlay",
              "size": 10,
              "solidity": 0.2
             }
            },
            "type": "barpolar"
           }
          ],
          "carpet": [
           {
            "aaxis": {
             "endlinecolor": "#2a3f5f",
             "gridcolor": "white",
             "linecolor": "white",
             "minorgridcolor": "white",
             "startlinecolor": "#2a3f5f"
            },
            "baxis": {
             "endlinecolor": "#2a3f5f",
             "gridcolor": "white",
             "linecolor": "white",
             "minorgridcolor": "white",
             "startlinecolor": "#2a3f5f"
            },
            "type": "carpet"
           }
          ],
          "choropleth": [
           {
            "colorbar": {
             "outlinewidth": 0,
             "ticks": ""
            },
            "type": "choropleth"
           }
          ],
          "contour": [
           {
            "colorbar": {
             "outlinewidth": 0,
             "ticks": ""
            },
            "colorscale": [
             [
              0,
              "#0d0887"
             ],
             [
              0.1111111111111111,
              "#46039f"
             ],
             [
              0.2222222222222222,
              "#7201a8"
             ],
             [
              0.3333333333333333,
              "#9c179e"
             ],
             [
              0.4444444444444444,
              "#bd3786"
             ],
             [
              0.5555555555555556,
              "#d8576b"
             ],
             [
              0.6666666666666666,
              "#ed7953"
             ],
             [
              0.7777777777777778,
              "#fb9f3a"
             ],
             [
              0.8888888888888888,
              "#fdca26"
             ],
             [
              1,
              "#f0f921"
             ]
            ],
            "type": "contour"
           }
          ],
          "contourcarpet": [
           {
            "colorbar": {
             "outlinewidth": 0,
             "ticks": ""
            },
            "type": "contourcarpet"
           }
          ],
          "heatmap": [
           {
            "colorbar": {
             "outlinewidth": 0,
             "ticks": ""
            },
            "colorscale": [
             [
              0,
              "#0d0887"
             ],
             [
              0.1111111111111111,
              "#46039f"
             ],
             [
              0.2222222222222222,
              "#7201a8"
             ],
             [
              0.3333333333333333,
              "#9c179e"
             ],
             [
              0.4444444444444444,
              "#bd3786"
             ],
             [
              0.5555555555555556,
              "#d8576b"
             ],
             [
              0.6666666666666666,
              "#ed7953"
             ],
             [
              0.7777777777777778,
              "#fb9f3a"
             ],
             [
              0.8888888888888888,
              "#fdca26"
             ],
             [
              1,
              "#f0f921"
             ]
            ],
            "type": "heatmap"
           }
          ],
          "histogram": [
           {
            "marker": {
             "pattern": {
              "fillmode": "overlay",
              "size": 10,
              "solidity": 0.2
             }
            },
            "type": "histogram"
           }
          ],
          "histogram2d": [
           {
            "colorbar": {
             "outlinewidth": 0,
             "ticks": ""
            },
            "colorscale": [
             [
              0,
              "#0d0887"
             ],
             [
              0.1111111111111111,
              "#46039f"
             ],
             [
              0.2222222222222222,
              "#7201a8"
             ],
             [
              0.3333333333333333,
              "#9c179e"
             ],
             [
              0.4444444444444444,
              "#bd3786"
             ],
             [
              0.5555555555555556,
              "#d8576b"
             ],
             [
              0.6666666666666666,
              "#ed7953"
             ],
             [
              0.7777777777777778,
              "#fb9f3a"
             ],
             [
              0.8888888888888888,
              "#fdca26"
             ],
             [
              1,
              "#f0f921"
             ]
            ],
            "type": "histogram2d"
           }
          ],
          "histogram2dcontour": [
           {
            "colorbar": {
             "outlinewidth": 0,
             "ticks": ""
            },
            "colorscale": [
             [
              0,
              "#0d0887"
             ],
             [
              0.1111111111111111,
              "#46039f"
             ],
             [
              0.2222222222222222,
              "#7201a8"
             ],
             [
              0.3333333333333333,
              "#9c179e"
             ],
             [
              0.4444444444444444,
              "#bd3786"
             ],
             [
              0.5555555555555556,
              "#d8576b"
             ],
             [
              0.6666666666666666,
              "#ed7953"
             ],
             [
              0.7777777777777778,
              "#fb9f3a"
             ],
             [
              0.8888888888888888,
              "#fdca26"
             ],
             [
              1,
              "#f0f921"
             ]
            ],
            "type": "histogram2dcontour"
           }
          ],
          "mesh3d": [
           {
            "colorbar": {
             "outlinewidth": 0,
             "ticks": ""
            },
            "type": "mesh3d"
           }
          ],
          "parcoords": [
           {
            "line": {
             "colorbar": {
              "outlinewidth": 0,
              "ticks": ""
             }
            },
            "type": "parcoords"
           }
          ],
          "pie": [
           {
            "automargin": true,
            "type": "pie"
           }
          ],
          "scatter": [
           {
            "fillpattern": {
             "fillmode": "overlay",
             "size": 10,
             "solidity": 0.2
            },
            "type": "scatter"
           }
          ],
          "scatter3d": [
           {
            "line": {
             "colorbar": {
              "outlinewidth": 0,
              "ticks": ""
             }
            },
            "marker": {
             "colorbar": {
              "outlinewidth": 0,
              "ticks": ""
             }
            },
            "type": "scatter3d"
           }
          ],
          "scattercarpet": [
           {
            "marker": {
             "colorbar": {
              "outlinewidth": 0,
              "ticks": ""
             }
            },
            "type": "scattercarpet"
           }
          ],
          "scattergeo": [
           {
            "marker": {
             "colorbar": {
              "outlinewidth": 0,
              "ticks": ""
             }
            },
            "type": "scattergeo"
           }
          ],
          "scattergl": [
           {
            "marker": {
             "colorbar": {
              "outlinewidth": 0,
              "ticks": ""
             }
            },
            "type": "scattergl"
           }
          ],
          "scattermap": [
           {
            "marker": {
             "colorbar": {
              "outlinewidth": 0,
              "ticks": ""
             }
            },
            "type": "scattermap"
           }
          ],
          "scattermapbox": [
           {
            "marker": {
             "colorbar": {
              "outlinewidth": 0,
              "ticks": ""
             }
            },
            "type": "scattermapbox"
           }
          ],
          "scatterpolar": [
           {
            "marker": {
             "colorbar": {
              "outlinewidth": 0,
              "ticks": ""
             }
            },
            "type": "scatterpolar"
           }
          ],
          "scatterpolargl": [
           {
            "marker": {
             "colorbar": {
              "outlinewidth": 0,
              "ticks": ""
             }
            },
            "type": "scatterpolargl"
           }
          ],
          "scatterternary": [
           {
            "marker": {
             "colorbar": {
              "outlinewidth": 0,
              "ticks": ""
             }
            },
            "type": "scatterternary"
           }
          ],
          "surface": [
           {
            "colorbar": {
             "outlinewidth": 0,
             "ticks": ""
            },
            "colorscale": [
             [
              0,
              "#0d0887"
             ],
             [
              0.1111111111111111,
              "#46039f"
             ],
             [
              0.2222222222222222,
              "#7201a8"
             ],
             [
              0.3333333333333333,
              "#9c179e"
             ],
             [
              0.4444444444444444,
              "#bd3786"
             ],
             [
              0.5555555555555556,
              "#d8576b"
             ],
             [
              0.6666666666666666,
              "#ed7953"
             ],
             [
              0.7777777777777778,
              "#fb9f3a"
             ],
             [
              0.8888888888888888,
              "#fdca26"
             ],
             [
              1,
              "#f0f921"
             ]
            ],
            "type": "surface"
           }
          ],
          "table": [
           {
            "cells": {
             "fill": {
              "color": "#EBF0F8"
             },
             "line": {
              "color": "white"
             }
            },
            "header": {
             "fill": {
              "color": "#C8D4E3"
             },
             "line": {
              "color": "white"
             }
            },
            "type": "table"
           }
          ]
         },
         "layout": {
          "annotationdefaults": {
           "arrowcolor": "#2a3f5f",
           "arrowhead": 0,
           "arrowwidth": 1
          },
          "autotypenumbers": "strict",
          "coloraxis": {
           "colorbar": {
            "outlinewidth": 0,
            "ticks": ""
           }
          },
          "colorscale": {
           "diverging": [
            [
             0,
             "#8e0152"
            ],
            [
             0.1,
             "#c51b7d"
            ],
            [
             0.2,
             "#de77ae"
            ],
            [
             0.3,
             "#f1b6da"
            ],
            [
             0.4,
             "#fde0ef"
            ],
            [
             0.5,
             "#f7f7f7"
            ],
            [
             0.6,
             "#e6f5d0"
            ],
            [
             0.7,
             "#b8e186"
            ],
            [
             0.8,
             "#7fbc41"
            ],
            [
             0.9,
             "#4d9221"
            ],
            [
             1,
             "#276419"
            ]
           ],
           "sequential": [
            [
             0,
             "#0d0887"
            ],
            [
             0.1111111111111111,
             "#46039f"
            ],
            [
             0.2222222222222222,
             "#7201a8"
            ],
            [
             0.3333333333333333,
             "#9c179e"
            ],
            [
             0.4444444444444444,
             "#bd3786"
            ],
            [
             0.5555555555555556,
             "#d8576b"
            ],
            [
             0.6666666666666666,
             "#ed7953"
            ],
            [
             0.7777777777777778,
             "#fb9f3a"
            ],
            [
             0.8888888888888888,
             "#fdca26"
            ],
            [
             1,
             "#f0f921"
            ]
           ],
           "sequentialminus": [
            [
             0,
             "#0d0887"
            ],
            [
             0.1111111111111111,
             "#46039f"
            ],
            [
             0.2222222222222222,
             "#7201a8"
            ],
            [
             0.3333333333333333,
             "#9c179e"
            ],
            [
             0.4444444444444444,
             "#bd3786"
            ],
            [
             0.5555555555555556,
             "#d8576b"
            ],
            [
             0.6666666666666666,
             "#ed7953"
            ],
            [
             0.7777777777777778,
             "#fb9f3a"
            ],
            [
             0.8888888888888888,
             "#fdca26"
            ],
            [
             1,
             "#f0f921"
            ]
           ]
          },
          "colorway": [
           "#636efa",
           "#EF553B",
           "#00cc96",
           "#ab63fa",
           "#FFA15A",
           "#19d3f3",
           "#FF6692",
           "#B6E880",
           "#FF97FF",
           "#FECB52"
          ],
          "font": {
           "color": "#2a3f5f"
          },
          "geo": {
           "bgcolor": "white",
           "lakecolor": "white",
           "landcolor": "#E5ECF6",
           "showlakes": true,
           "showland": true,
           "subunitcolor": "white"
          },
          "hoverlabel": {
           "align": "left"
          },
          "hovermode": "closest",
          "mapbox": {
           "style": "light"
          },
          "paper_bgcolor": "white",
          "plot_bgcolor": "#E5ECF6",
          "polar": {
           "angularaxis": {
            "gridcolor": "white",
            "linecolor": "white",
            "ticks": ""
           },
           "bgcolor": "#E5ECF6",
           "radialaxis": {
            "gridcolor": "white",
            "linecolor": "white",
            "ticks": ""
           }
          },
          "scene": {
           "xaxis": {
            "backgroundcolor": "#E5ECF6",
            "gridcolor": "white",
            "gridwidth": 2,
            "linecolor": "white",
            "showbackground": true,
            "ticks": "",
            "zerolinecolor": "white"
           },
           "yaxis": {
            "backgroundcolor": "#E5ECF6",
            "gridcolor": "white",
            "gridwidth": 2,
            "linecolor": "white",
            "showbackground": true,
            "ticks": "",
            "zerolinecolor": "white"
           },
           "zaxis": {
            "backgroundcolor": "#E5ECF6",
            "gridcolor": "white",
            "gridwidth": 2,
            "linecolor": "white",
            "showbackground": true,
            "ticks": "",
            "zerolinecolor": "white"
           }
          },
          "shapedefaults": {
           "line": {
            "color": "#2a3f5f"
           }
          },
          "ternary": {
           "aaxis": {
            "gridcolor": "white",
            "linecolor": "white",
            "ticks": ""
           },
           "baxis": {
            "gridcolor": "white",
            "linecolor": "white",
            "ticks": ""
           },
           "bgcolor": "#E5ECF6",
           "caxis": {
            "gridcolor": "white",
            "linecolor": "white",
            "ticks": ""
           }
          },
          "title": {
           "x": 0.05
          },
          "xaxis": {
           "automargin": true,
           "gridcolor": "white",
           "linecolor": "white",
           "ticks": "",
           "title": {
            "standoff": 15
           },
           "zerolinecolor": "white",
           "zerolinewidth": 2
          },
          "yaxis": {
           "automargin": true,
           "gridcolor": "white",
           "linecolor": "white",
           "ticks": "",
           "title": {
            "standoff": 15
           },
           "zerolinecolor": "white",
           "zerolinewidth": 2
          }
         }
        },
        "title": {
         "text": "Attention Mosaics For Induction on RRTs for chronos-t5-large"
        },
        "width": 1000,
        "xaxis": {
         "anchor": "y",
         "domain": [
          0,
          0.45
         ],
         "dtick": 1,
         "showticklabels": true,
         "tick0": 0,
         "tickmode": "linear",
         "title": {
          "font": {
           "size": 18
          },
          "text": "Head"
         }
        },
        "xaxis2": {
         "anchor": "y2",
         "domain": [
          0.55,
          1
         ],
         "dtick": 1,
         "showticklabels": true,
         "tick0": 0,
         "tickmode": "linear",
         "title": {
          "font": {
           "size": 18
          },
          "text": "Head"
         }
        },
        "yaxis": {
         "anchor": "x",
         "domain": [
          0,
          1
         ],
         "dtick": 1,
         "showticklabels": true,
         "tick0": 0,
         "tickmode": "linear",
         "title": {
          "font": {
           "size": 18
          },
          "text": "Layer"
         }
        },
        "yaxis2": {
         "anchor": "x2",
         "domain": [
          0,
          1
         ],
         "dtick": 1,
         "matches": "y",
         "showticklabels": true,
         "tick0": 0,
         "tickmode": "linear",
         "title": {
          "font": {
           "size": 18
          },
          "text": "Layer"
         }
        }
       }
      }
     },
     "metadata": {},
     "output_type": "display_data"
    },
    {
     "name": "stdout",
     "output_type": "stream",
     "text": [
      "Saved figure to plots/chronos-t5-large.png\n"
     ]
    }
   ],
   "source": [
    "model_names = [\"amazon/chronos-t5-mini\", \"amazon/chronos-t5-small\", \"amazon/chronos-t5-base\", \"amazon/chronos-t5-large\"]\n",
    "\n",
    "for model_name in model_names:\n",
    "    print(f\"Processing {model_name}...\")\n",
    "    \n",
    "    pipeline = BaseChronosPipeline.from_pretrained(\n",
    "        model_name,  # use \"amazon/chronos-bolt-small\" for the corresponding Chronos-Bolt model\n",
    "        device_map=\"cpu\",  # use \"cpu\" for CPU inference\n",
    "        torch_dtype=torch.bfloat16,\n",
    "    )\n",
    "\n",
    "    if \"bolt\" in model_name:\n",
    "        t5_model = pipeline.model\n",
    "    else:\n",
    "        t5_model = pipeline.model.model\n",
    "\n",
    "    output, cross_attn_probs = attn.attn_lens(token_ids, attention_mask, t5_model, max_new_tokens=1, decoder_input_ids=decoder_input_ids)\n",
    "\n",
    "    t_idx = 1\n",
    "    s_idx = sequence_length * ((repeat_factor-1)*num_unique_sequences + extension) + sub_extension\n",
    "\n",
    "    layers, heads = t5_model.config.num_decoder_layers, t5_model.config.num_heads\n",
    "    mosaic_left = np.zeros((layers, heads)).tolist()\n",
    "    mosaic_center = np.zeros((layers, heads)).tolist()\n",
    "    mosaic_right = np.zeros((layers, heads)).tolist()\n",
    "\n",
    "    for layer in range(layers):\n",
    "        for head in range(heads):\n",
    "            # mean over the batch\n",
    "            # mosaic_left[layer, head] = cross_attn_probs[0][layer][:, head, t_idx, s_idx-1].mean()\n",
    "            mosaic_center[layer][head] = float(cross_attn_probs[t_idx][layer][:, head, t_idx, s_idx].mean())\n",
    "            mosaic_right[layer][head] = float(cross_attn_probs[t_idx][layer][:, head, t_idx, s_idx+1].mean())\n",
    "\n",
    "    # Extract model size from name for the title\n",
    "    model_size = model_name.split('-')[-1]\n",
    "\n",
    "    # Create a subplot with 2 side-by-side heatmaps\n",
    "    fig = make_subplots(rows=1, cols=2, \n",
    "                        subplot_titles=(\"Current token\", \"Token to right of current\"),\n",
    "                        shared_yaxes=True)\n",
    "\n",
    "    # Add heatmaps to the subplots\n",
    "    # fig.add_trace(\n",
    "    #     go.Heatmap(z=mosaic_left, zmin=0, zmax=1, coloraxis=\"coloraxis\"),\n",
    "    #     row=1, col=1\n",
    "    # )\n",
    "    fig.add_trace(\n",
    "        go.Heatmap(z=mosaic_center, zmin=0, zmax=1, coloraxis=\"coloraxis\"),\n",
    "        row=1, col=1\n",
    "    )\n",
    "    fig.add_trace(\n",
    "        go.Heatmap(z=mosaic_right, zmin=0, zmax=1, coloraxis=\"coloraxis\"),\n",
    "        row=1, col=2\n",
    "    )\n",
    "\n",
    "    # Update layout\n",
    "    fig.update_layout(\n",
    "        title_text=f\"Attention Mosaics For Induction on RRTs for {model_name.split('/')[-1]}\",\n",
    "        height=500,\n",
    "        width=1000,\n",
    "        coloraxis=dict(cmin=0, cmax=1, colorbar=dict(title=\"Attention Score\"))\n",
    "    )\n",
    "\n",
    "    # Add axes labels with integer ticks\n",
    "    fig.update_xaxes(title_text=\"Head\", row=1, col=1, title_font=dict(size=18), \n",
    "                    tickmode='linear', tick0=0, dtick=1, showticklabels=True)\n",
    "    fig.update_xaxes(title_text=\"Head\", row=1, col=2, title_font=dict(size=18), \n",
    "                    tickmode='linear', tick0=0, dtick=1, showticklabels=True)\n",
    "    fig.update_yaxes(title_text=\"Layer\", row=1, col=1, title_font=dict(size=18), \n",
    "                    tickmode='linear', tick0=0, dtick=1, showticklabels=True)\n",
    "    fig.update_yaxes(title_text=\"Layer\", row=1, col=2, title_font=dict(size=18), \n",
    "                    tickmode='linear', tick0=0, dtick=1, showticklabels=True)\n",
    "\n",
    "    # Show the figure\n",
    "    fig.show()\n",
    "    \n",
    "    # Save the figure\n",
    "    import os\n",
    "    import plotly.io as pio\n",
    "    import json\n",
    "\n",
    "    os.makedirs(\"plots/json\", exist_ok=True)\n",
    "    output_png_filename = f\"plots/{model_name.split('/')[-1]}\"\n",
    "    output_json_filename = f\"plots/json/{model_name.split('/')[-1]}\"\n",
    "    fig.write_image(f\"{output_png_filename}.png\")\n",
    "    # fig.write_html(f\"{output_html_filename}.html\")\n",
    "    # pio.write_json(fig, f\"{output_json_filename}.json\", engine=\"json\")\n",
    "    # this returns a JSON string with array-of-arrays\n",
    "    \n",
    "    # manually convert any numpy arrays to lists\n",
    "    for trace in fig.data:\n",
    "        if isinstance(trace.z, np.ndarray):\n",
    "            trace.z = trace.z.tolist()\n",
    "        if hasattr(trace, \"x\") and isinstance(trace.x, np.ndarray):\n",
    "            trace.x = trace.x.tolist()\n",
    "        if hasattr(trace, \"y\") and isinstance(trace.y, np.ndarray):\n",
    "            trace.y = trace.y.tolist()\n",
    "\n",
    "    # now dump with the standard json library\n",
    "    with open(f\"{output_json_filename}.json\", \"w\") as f:\n",
    "        json.dump(fig.to_plotly_json(), f)\n",
    "\n",
    "    print(f\"Saved figure to {output_png_filename}.png\")"
   ]
  }
 ],
 "metadata": {
  "kernelspec": {
   "display_name": "chronos_env",
   "language": "python",
   "name": "python3"
  },
  "language_info": {
   "codemirror_mode": {
    "name": "ipython",
    "version": 3
   },
   "file_extension": ".py",
   "mimetype": "text/x-python",
   "name": "python",
   "nbconvert_exporter": "python",
   "pygments_lexer": "ipython3",
   "version": "3.10.16"
  }
 },
 "nbformat": 4,
 "nbformat_minor": 2
}
